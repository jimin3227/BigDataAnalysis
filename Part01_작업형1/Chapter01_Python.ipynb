{
 "cells": [
  {
   "cell_type": "markdown",
   "id": "8629304d",
   "metadata": {},
   "source": [
    "01. Output"
   ]
  },
  {
   "cell_type": "code",
   "execution_count": 1,
   "id": "aa4ca85c",
   "metadata": {},
   "outputs": [
    {
     "name": "stdout",
     "output_type": "stream",
     "text": [
      "Hello, World!\n"
     ]
    }
   ],
   "source": [
    "print(\"Hello, World!\")"
   ]
  },
  {
   "cell_type": "code",
   "execution_count": null,
   "id": "86432a24",
   "metadata": {},
   "outputs": [
    {
     "name": "stdout",
     "output_type": "stream",
     "text": [
      "2025\n"
     ]
    }
   ],
   "source": [
    "# number does not need to be in quotes\n",
    "print(2025)"
   ]
  },
  {
   "cell_type": "code",
   "execution_count": 5,
   "id": "24b6bced",
   "metadata": {},
   "outputs": [
    {
     "data": {
      "text/plain": [
       "'Second line of code'"
      ]
     },
     "execution_count": 5,
     "metadata": {},
     "output_type": "execute_result"
    }
   ],
   "source": [
    "# Automatically prints the last line of the code\n",
    "\"First line of code\"\n",
    "\"Second line of code\""
   ]
  },
  {
   "cell_type": "markdown",
   "id": "3b3a3c0a",
   "metadata": {},
   "source": [
    "02. Comments"
   ]
  },
  {
   "cell_type": "code",
   "execution_count": null,
   "id": "560dc268",
   "metadata": {},
   "outputs": [
    {
     "name": "stdout",
     "output_type": "stream",
     "text": [
      "Python\n"
     ]
    }
   ],
   "source": [
    "# This is used to add a memo to the code\n",
    "print(\"Python\")\n",
    "# print(\"Python in fun\")\n",
    "# \"Ctrl + /\" to comment out a line"
   ]
  },
  {
   "cell_type": "markdown",
   "id": "cd7f68f6",
   "metadata": {},
   "source": [
    "03. Arithmetic Operators"
   ]
  },
  {
   "cell_type": "code",
   "execution_count": 7,
   "id": "036d4d07",
   "metadata": {},
   "outputs": [
    {
     "name": "stdout",
     "output_type": "stream",
     "text": [
      "3 3 6 5.333333333333333\n"
     ]
    }
   ],
   "source": [
    "print(1+2, 4-1, 2*3, 16/3)"
   ]
  },
  {
   "cell_type": "code",
   "execution_count": 18,
   "id": "b496ac3a",
   "metadata": {},
   "outputs": [
    {
     "data": {
      "text/plain": [
       "5.0"
      ]
     },
     "execution_count": 18,
     "metadata": {},
     "output_type": "execute_result"
    }
   ],
   "source": [
    "15/3"
   ]
  },
  {
   "cell_type": "code",
   "execution_count": 19,
   "id": "f92e9881",
   "metadata": {},
   "outputs": [
    {
     "data": {
      "text/plain": [
       "5"
      ]
     },
     "execution_count": 19,
     "metadata": {},
     "output_type": "execute_result"
    }
   ],
   "source": [
    "16//3\n",
    "# get the integer part of the division"
   ]
  },
  {
   "cell_type": "code",
   "execution_count": 20,
   "id": "2e9dbbc9",
   "metadata": {},
   "outputs": [
    {
     "data": {
      "text/plain": [
       "1"
      ]
     },
     "execution_count": 20,
     "metadata": {},
     "output_type": "execute_result"
    }
   ],
   "source": [
    "16%3"
   ]
  },
  {
   "cell_type": "code",
   "execution_count": 14,
   "id": "01b5be87",
   "metadata": {},
   "outputs": [
    {
     "data": {
      "text/plain": [
       "16"
      ]
     },
     "execution_count": 14,
     "metadata": {},
     "output_type": "execute_result"
    }
   ],
   "source": [
    "# Exponentiation\n",
    "4**2"
   ]
  },
  {
   "cell_type": "code",
   "execution_count": 21,
   "id": "e2c85d5b",
   "metadata": {},
   "outputs": [
    {
     "data": {
      "text/plain": [
       "4.0"
      ]
     },
     "execution_count": 21,
     "metadata": {},
     "output_type": "execute_result"
    }
   ],
   "source": [
    "# Square root\n",
    "16**0.5"
   ]
  },
  {
   "cell_type": "code",
   "execution_count": 22,
   "id": "8b9383d8",
   "metadata": {},
   "outputs": [
    {
     "data": {
      "text/plain": [
       "'python'"
      ]
     },
     "execution_count": 22,
     "metadata": {},
     "output_type": "execute_result"
    }
   ],
   "source": [
    "\"py\"+\"thon\""
   ]
  },
  {
   "cell_type": "code",
   "execution_count": null,
   "id": "346031a3",
   "metadata": {},
   "outputs": [
    {
     "data": {
      "text/plain": [
       "'py3'"
      ]
     },
     "execution_count": 24,
     "metadata": {},
     "output_type": "execute_result"
    }
   ],
   "source": [
    "\"py\"+\"3\"\n",
    "# w/o quotation, type error & cannot concatenate string and integer"
   ]
  },
  {
   "cell_type": "markdown",
   "id": "1a8cf02f",
   "metadata": {},
   "source": [
    "04. Data Types"
   ]
  },
  {
   "cell_type": "code",
   "execution_count": 29,
   "id": "152b1e8e",
   "metadata": {},
   "outputs": [
    {
     "data": {
      "text/plain": [
       "(int, float, str, str)"
      ]
     },
     "execution_count": 29,
     "metadata": {},
     "output_type": "execute_result"
    }
   ],
   "source": [
    "type(1), type(1.0), type(\"Python\"), type('3')"
   ]
  },
  {
   "cell_type": "code",
   "execution_count": 30,
   "id": "50519142",
   "metadata": {},
   "outputs": [
    {
     "data": {
      "text/plain": [
       "(int, float, str)"
      ]
     },
     "execution_count": 30,
     "metadata": {},
     "output_type": "execute_result"
    }
   ],
   "source": [
    "type(3), type(3.0), type(\"3\")"
   ]
  },
  {
   "cell_type": "code",
   "execution_count": 32,
   "id": "04a74d83",
   "metadata": {},
   "outputs": [
    {
     "data": {
      "text/plain": [
       "(bool, bool)"
      ]
     },
     "execution_count": 32,
     "metadata": {},
     "output_type": "execute_result"
    }
   ],
   "source": [
    "type(True), type(False)"
   ]
  },
  {
   "cell_type": "code",
   "execution_count": 34,
   "id": "c41ccdc1",
   "metadata": {},
   "outputs": [
    {
     "data": {
      "text/plain": [
       "2"
      ]
     },
     "execution_count": 34,
     "metadata": {},
     "output_type": "execute_result"
    }
   ],
   "source": [
    "True+True+False+False\n",
    "# true is 1, false is 0"
   ]
  },
  {
   "cell_type": "markdown",
   "id": "f073fec4",
   "metadata": {},
   "source": [
    "05. Variables"
   ]
  },
  {
   "cell_type": "code",
   "execution_count": 35,
   "id": "8a7b68ee",
   "metadata": {},
   "outputs": [],
   "source": [
    "americano=4500"
   ]
  },
  {
   "cell_type": "code",
   "execution_count": null,
   "id": "24f0d4e5",
   "metadata": {},
   "outputs": [
    {
     "name": "stdout",
     "output_type": "stream",
     "text": [
      "4500\n",
      "americano\n"
     ]
    }
   ],
   "source": [
    "print(americano)    # variable assignment\n",
    "print('americano')  # string literal"
   ]
  },
  {
   "cell_type": "code",
   "execution_count": 37,
   "id": "7d3fd1d4",
   "metadata": {},
   "outputs": [],
   "source": [
    "latte=5000"
   ]
  },
  {
   "cell_type": "code",
   "execution_count": 38,
   "id": "c80efa85",
   "metadata": {},
   "outputs": [
    {
     "name": "stdout",
     "output_type": "stream",
     "text": [
      "9500\n"
     ]
    }
   ],
   "source": [
    "print(americano+latte)"
   ]
  },
  {
   "cell_type": "code",
   "execution_count": null,
   "id": "dbf5a881",
   "metadata": {},
   "outputs": [
    {
     "name": "stdout",
     "output_type": "stream",
     "text": [
      "9500\n"
     ]
    }
   ],
   "source": [
    "result=americano+latte  # assigning the result to a variable\n",
    "print(result)"
   ]
  },
  {
   "cell_type": "code",
   "execution_count": 40,
   "id": "0d352ec2",
   "metadata": {},
   "outputs": [
    {
     "name": "stdout",
     "output_type": "stream",
     "text": [
      "3500\n"
     ]
    }
   ],
   "source": [
    "americano = 4500\n",
    "americano = americano - 1000\n",
    "print(americano)"
   ]
  },
  {
   "cell_type": "code",
   "execution_count": 41,
   "id": "d0742aee",
   "metadata": {},
   "outputs": [
    {
     "name": "stdout",
     "output_type": "stream",
     "text": [
      "60\n"
     ]
    }
   ],
   "source": [
    "# multiple assignment\n",
    "a, b, c = 10, 20, 30\n",
    "print(a+b+c)"
   ]
  },
  {
   "cell_type": "markdown",
   "id": "117ba762",
   "metadata": {},
   "source": [
    "06. Type Conversion"
   ]
  },
  {
   "cell_type": "code",
   "execution_count": 42,
   "id": "76e2cfc7",
   "metadata": {},
   "outputs": [
    {
     "data": {
      "text/plain": [
       "float"
      ]
     },
     "execution_count": 42,
     "metadata": {},
     "output_type": "execute_result"
    }
   ],
   "source": [
    "a=2\n",
    "b=0.17\n",
    "a=a+b\n",
    "type(a)"
   ]
  },
  {
   "cell_type": "code",
   "execution_count": 43,
   "id": "6e962e96",
   "metadata": {},
   "outputs": [
    {
     "name": "stdout",
     "output_type": "stream",
     "text": [
      "문자열: 2.17\n",
      "정수형: 2\n"
     ]
    }
   ],
   "source": [
    "box= 2.17\n",
    "print(\"문자열:\", str(box))\n",
    "print(\"정수형:\", int(box))"
   ]
  },
  {
   "cell_type": "code",
   "execution_count": 45,
   "id": "a310e4b6",
   "metadata": {},
   "outputs": [
    {
     "data": {
      "text/plain": [
       "13.14"
      ]
     },
     "execution_count": 45,
     "metadata": {},
     "output_type": "execute_result"
    }
   ],
   "source": [
    "box=\"3.14\"\n",
    "box=float(box)+10\n",
    "box"
   ]
  },
  {
   "cell_type": "markdown",
   "id": "6fa67559",
   "metadata": {},
   "source": [
    "07. Comparison Operators"
   ]
  },
  {
   "cell_type": "code",
   "execution_count": 50,
   "id": "d7957203",
   "metadata": {},
   "outputs": [
    {
     "name": "stdout",
     "output_type": "stream",
     "text": [
      "True\n",
      "False\n",
      "True\n",
      "False\n"
     ]
    }
   ],
   "source": [
    "print(10>5)\n",
    "print(10<5)\n",
    "print(10>=5)\n",
    "print(10<=5)"
   ]
  },
  {
   "cell_type": "code",
   "execution_count": 51,
   "id": "493b74e0",
   "metadata": {},
   "outputs": [
    {
     "data": {
      "text/plain": [
       "True"
      ]
     },
     "execution_count": 51,
     "metadata": {},
     "output_type": "execute_result"
    }
   ],
   "source": [
    "10==10"
   ]
  },
  {
   "cell_type": "code",
   "execution_count": 52,
   "id": "80c95cba",
   "metadata": {},
   "outputs": [
    {
     "data": {
      "text/plain": [
       "True"
      ]
     },
     "execution_count": 52,
     "metadata": {},
     "output_type": "execute_result"
    }
   ],
   "source": [
    "10!=5"
   ]
  },
  {
   "cell_type": "code",
   "execution_count": 53,
   "id": "306ef74c",
   "metadata": {},
   "outputs": [
    {
     "data": {
      "text/plain": [
       "True"
      ]
     },
     "execution_count": 53,
     "metadata": {},
     "output_type": "execute_result"
    }
   ],
   "source": [
    "a=10\n",
    "b=10\n",
    "a==b"
   ]
  },
  {
   "cell_type": "code",
   "execution_count": 54,
   "id": "5cf5f5bc",
   "metadata": {},
   "outputs": [
    {
     "name": "stdout",
     "output_type": "stream",
     "text": [
      "True\n",
      "False\n"
     ]
    }
   ],
   "source": [
    "print(a>=b)\n",
    "print(a<b)"
   ]
  },
  {
   "cell_type": "code",
   "execution_count": 55,
   "id": "345739cc",
   "metadata": {},
   "outputs": [
    {
     "name": "stdout",
     "output_type": "stream",
     "text": [
      "True\n",
      "False\n"
     ]
    }
   ],
   "source": [
    "a=\"BigData\"\n",
    "b=\"BigData\"\n",
    "c=\"Data\"\n",
    "\n",
    "print(a==b)\n",
    "print(a==c)"
   ]
  },
  {
   "cell_type": "markdown",
   "id": "c1db0598",
   "metadata": {},
   "source": [
    "08. Conditionals"
   ]
  },
  {
   "cell_type": "code",
   "execution_count": 56,
   "id": "669fed94",
   "metadata": {},
   "outputs": [
    {
     "name": "stdout",
     "output_type": "stream",
     "text": [
      "This is true\n"
     ]
    }
   ],
   "source": [
    "if True:\n",
    "    print(\"This is true\")"
   ]
  },
  {
   "cell_type": "code",
   "execution_count": 58,
   "id": "674917d6",
   "metadata": {},
   "outputs": [],
   "source": [
    "if False:\n",
    "    print(\"This is false\")"
   ]
  },
  {
   "cell_type": "code",
   "execution_count": 59,
   "id": "15f347a1",
   "metadata": {},
   "outputs": [
    {
     "name": "stdout",
     "output_type": "stream",
     "text": [
      "Equal to or greater than 10\n"
     ]
    }
   ],
   "source": [
    "score = 10\n",
    "if score >= 10:\n",
    "    print(\"Equal to or greater than 10\")"
   ]
  },
  {
   "cell_type": "code",
   "execution_count": 60,
   "id": "045f60b0",
   "metadata": {},
   "outputs": [
    {
     "name": "stdout",
     "output_type": "stream",
     "text": [
      "Equal to 10\n"
     ]
    }
   ],
   "source": [
    "score = 10\n",
    "if score == 10:\n",
    "    print(\"Equal to 10\")"
   ]
  },
  {
   "cell_type": "code",
   "execution_count": 62,
   "id": "3ae13260",
   "metadata": {},
   "outputs": [
    {
     "name": "stdout",
     "output_type": "stream",
     "text": [
      "True and False: False\n",
      "True and True: True\n",
      "True or False: True\n",
      "True or True: True\n"
     ]
    }
   ],
   "source": [
    "print(\"True and False:\", True and False)\n",
    "print(\"True and True:\", True and True)\n",
    "print(\"True or False:\", True or False)\n",
    "print(\"True or True:\", True or True)"
   ]
  },
  {
   "cell_type": "code",
   "execution_count": null,
   "id": "5bf4d9eb",
   "metadata": {},
   "outputs": [
    {
     "name": "stdout",
     "output_type": "stream",
     "text": [
      "score is less than 5 or greater than or equal to 10\n"
     ]
    }
   ],
   "source": [
    "# else\n",
    "if score<10 and score >=5:\n",
    "    print(\"score is equal to or greater than 5 and less than 10\")\n",
    "else:\n",
    "    print(\"score is less than 5 or greater than or equal to 10\")"
   ]
  },
  {
   "cell_type": "code",
   "execution_count": null,
   "id": "59238468",
   "metadata": {},
   "outputs": [
    {
     "name": "stdout",
     "output_type": "stream",
     "text": [
      "B\n"
     ]
    }
   ],
   "source": [
    "# elif\n",
    "score = 7\n",
    "\n",
    "if score>=10:\n",
    "    print(\"A\")\n",
    "elif score<10 and score>=5:\n",
    "    print(\"B\")\n",
    "else:\n",
    "    print(\"C\")"
   ]
  },
  {
   "cell_type": "code",
   "execution_count": 67,
   "id": "b77f6ec7",
   "metadata": {},
   "outputs": [
    {
     "name": "stdout",
     "output_type": "stream",
     "text": [
      "C\n"
     ]
    }
   ],
   "source": [
    "score = 2\n",
    "\n",
    "if score>=10:\n",
    "    print(\"A\")\n",
    "elif score<10 and score>=5:\n",
    "    print(\"B\")\n",
    "elif score<5 and score>=2:\n",
    "    print(\"C\")\n",
    "else:\n",
    "    print(\"D\")"
   ]
  },
  {
   "cell_type": "markdown",
   "id": "42609317",
   "metadata": {},
   "source": [
    "09. Lists"
   ]
  },
  {
   "cell_type": "code",
   "execution_count": 68,
   "id": "a26e2e94",
   "metadata": {},
   "outputs": [
    {
     "name": "stdout",
     "output_type": "stream",
     "text": [
      "[4, 2, 6, 10, 8]\n"
     ]
    }
   ],
   "source": [
    "listbox = [4,2,6,10,8]\n",
    "print(listbox)"
   ]
  },
  {
   "cell_type": "code",
   "execution_count": 69,
   "id": "2eab2923",
   "metadata": {},
   "outputs": [
    {
     "name": "stdout",
     "output_type": "stream",
     "text": [
      "4\n"
     ]
    }
   ],
   "source": [
    "# index starting from 0\n",
    "print(listbox[0])  # first element"
   ]
  },
  {
   "cell_type": "code",
   "execution_count": 70,
   "id": "d51b794d",
   "metadata": {},
   "outputs": [
    {
     "name": "stdout",
     "output_type": "stream",
     "text": [
      "<class 'list'>\n"
     ]
    }
   ],
   "source": [
    "print(type(listbox))"
   ]
  },
  {
   "cell_type": "code",
   "execution_count": 74,
   "id": "5cb8babb",
   "metadata": {},
   "outputs": [
    {
     "name": "stdout",
     "output_type": "stream",
     "text": [
      "['Big', 'Data', 'Analysis']\n"
     ]
    }
   ],
   "source": [
    "listbox=[\"Big\", \"Data\", \"Analysis\"]\n",
    "print(listbox)"
   ]
  },
  {
   "cell_type": "code",
   "execution_count": 75,
   "id": "bd5cc695",
   "metadata": {},
   "outputs": [
    {
     "name": "stdout",
     "output_type": "stream",
     "text": [
      "['Big', 'Data', 'Analysis', 'Certification']\n"
     ]
    }
   ],
   "source": [
    "# append() adds an element to the end of the list\n",
    "listbox.append(\"Certification\")\n",
    "print(listbox)"
   ]
  },
  {
   "cell_type": "code",
   "execution_count": null,
   "id": "957d01cd",
   "metadata": {},
   "outputs": [
    {
     "name": "stdout",
     "output_type": "stream",
     "text": [
      "[2, 4, 6, 8, 10]\n"
     ]
    }
   ],
   "source": [
    "# sort() sorts the list in ascending order\n",
    "listbox = [4,2,6,10,8]\n",
    "listbox_sorted = sorted(listbox)\n",
    "print(listbox_sorted)"
   ]
  },
  {
   "cell_type": "code",
   "execution_count": 77,
   "id": "c15dc486",
   "metadata": {},
   "outputs": [
    {
     "data": {
      "text/plain": [
       "[10, 8, 6, 4, 2]"
      ]
     },
     "execution_count": 77,
     "metadata": {},
     "output_type": "execute_result"
    }
   ],
   "source": [
    "sorted(listbox, reverse=True)  # sorts in descending order"
   ]
  },
  {
   "cell_type": "code",
   "execution_count": null,
   "id": "7cccb75a",
   "metadata": {},
   "outputs": [
    {
     "name": "stdout",
     "output_type": "stream",
     "text": [
      "['Analysis', 'Big', 'Data']\n"
     ]
    }
   ],
   "source": [
    "# sort the string in alphabetical order\n",
    "listbox=[\"Big\", \"Data\", \"Analysis\"]\n",
    "listbox_sorted = sorted(listbox)\n",
    "print(listbox_sorted)"
   ]
  },
  {
   "cell_type": "markdown",
   "id": "195f4cd9",
   "metadata": {},
   "source": [
    "10. Dictionaires"
   ]
  },
  {
   "cell_type": "code",
   "execution_count": 79,
   "id": "152850ba",
   "metadata": {},
   "outputs": [
    {
     "data": {
      "text/plain": [
       "{'name': 'Dog', 'level': 5}"
      ]
     },
     "execution_count": 79,
     "metadata": {},
     "output_type": "execute_result"
    }
   ],
   "source": [
    "dictbox = {'name': 'Dog', 'level': 5}\n",
    "dictbox"
   ]
  },
  {
   "cell_type": "code",
   "execution_count": 80,
   "id": "5c067f46",
   "metadata": {},
   "outputs": [
    {
     "data": {
      "text/plain": [
       "dict"
      ]
     },
     "execution_count": 80,
     "metadata": {},
     "output_type": "execute_result"
    }
   ],
   "source": [
    "type(dictbox)"
   ]
  },
  {
   "cell_type": "code",
   "execution_count": 81,
   "id": "5e03695d",
   "metadata": {},
   "outputs": [
    {
     "name": "stdout",
     "output_type": "stream",
     "text": [
      "Dog\n",
      "5\n"
     ]
    }
   ],
   "source": [
    "print(dictbox['name'])  # access value by key\n",
    "print(dictbox['level']) "
   ]
  },
  {
   "cell_type": "code",
   "execution_count": 82,
   "id": "19b81baf",
   "metadata": {},
   "outputs": [
    {
     "data": {
      "text/plain": [
       "'Cat'"
      ]
     },
     "execution_count": 82,
     "metadata": {},
     "output_type": "execute_result"
    }
   ],
   "source": [
    "dictbox['name'] = 'Cat'  # update value\n",
    "dictbox['name']"
   ]
  },
  {
   "cell_type": "code",
   "execution_count": 83,
   "id": "118b93e4",
   "metadata": {},
   "outputs": [
    {
     "data": {
      "text/plain": [
       "dict_keys(['name', 'level'])"
      ]
     },
     "execution_count": 83,
     "metadata": {},
     "output_type": "execute_result"
    }
   ],
   "source": [
    "dictbox.keys()"
   ]
  },
  {
   "cell_type": "code",
   "execution_count": 84,
   "id": "1db8ac83",
   "metadata": {},
   "outputs": [
    {
     "data": {
      "text/plain": [
       "dict_values(['Cat', 5])"
      ]
     },
     "execution_count": 84,
     "metadata": {},
     "output_type": "execute_result"
    }
   ],
   "source": [
    "dictbox.values()"
   ]
  },
  {
   "cell_type": "code",
   "execution_count": 85,
   "id": "f58f866f",
   "metadata": {},
   "outputs": [
    {
     "data": {
      "text/plain": [
       "dict_items([('name', 'Cat'), ('level', 5)])"
      ]
     },
     "execution_count": 85,
     "metadata": {},
     "output_type": "execute_result"
    }
   ],
   "source": [
    "dictbox.items()"
   ]
  },
  {
   "cell_type": "code",
   "execution_count": 87,
   "id": "0a5e1f83",
   "metadata": {},
   "outputs": [
    {
     "data": {
      "text/plain": [
       "['Cat', 5]"
      ]
     },
     "execution_count": 87,
     "metadata": {},
     "output_type": "execute_result"
    }
   ],
   "source": [
    "list(dictbox.values())"
   ]
  },
  {
   "cell_type": "code",
   "execution_count": 89,
   "id": "d261d055",
   "metadata": {},
   "outputs": [
    {
     "data": {
      "text/plain": [
       "{'nickname': 'Kuoka', 'name': 'Apple'}"
      ]
     },
     "execution_count": 89,
     "metadata": {},
     "output_type": "execute_result"
    }
   ],
   "source": [
    "a = \"Kuoka\"\n",
    "b = \"Apple\"\n",
    "c = \"name\"\n",
    "\n",
    "dictbox= {'nickname': a, c:b}\n",
    "dictbox"
   ]
  },
  {
   "cell_type": "code",
   "execution_count": 91,
   "id": "465d1d7d",
   "metadata": {},
   "outputs": [
    {
     "name": "stdout",
     "output_type": "stream",
     "text": [
      "{'cuisine': ['Italian', 'French', 'Japanese'], 'rating': [4.8, 4.5, 4.7]}\n"
     ]
    }
   ],
   "source": [
    "listbox1 = [\"Italian\", \"French\", \"Japanese\"]\n",
    "listbox2 = [4.8, 4.5, 4.7]\n",
    "\n",
    "dictbox = {\"cuisine\": listbox1, \"rating\": listbox2}\n",
    "print(dictbox)"
   ]
  },
  {
   "cell_type": "markdown",
   "id": "0bc4f696",
   "metadata": {},
   "source": [
    "11. Indexing and Slicing"
   ]
  },
  {
   "cell_type": "code",
   "execution_count": null,
   "id": "04d6a654",
   "metadata": {},
   "outputs": [
    {
     "name": "stdout",
     "output_type": "stream",
     "text": [
      "2\n",
      "8\n",
      "10\n"
     ]
    }
   ],
   "source": [
    "# Indexing\n",
    "listbox = [2,4,6,8,10]\n",
    "print(listbox[0]) # first element\n",
    "print(listbox[3]) # fourth element\n",
    "print(listbox[-1]) # last element"
   ]
  },
  {
   "cell_type": "code",
   "execution_count": 95,
   "id": "954f466e",
   "metadata": {},
   "outputs": [
    {
     "name": "stdout",
     "output_type": "stream",
     "text": [
      "[2, 4, 6]\n"
     ]
    }
   ],
   "source": [
    "# Slicing\n",
    "print(listbox[0:3])  # first three elements"
   ]
  },
  {
   "cell_type": "code",
   "execution_count": 96,
   "id": "c1e59562",
   "metadata": {},
   "outputs": [
    {
     "name": "stdout",
     "output_type": "stream",
     "text": [
      "[4, 6]\n"
     ]
    }
   ],
   "source": [
    "print(listbox[1:3])"
   ]
  },
  {
   "cell_type": "code",
   "execution_count": 98,
   "id": "cd4e1e1e",
   "metadata": {},
   "outputs": [
    {
     "name": "stdout",
     "output_type": "stream",
     "text": [
      "[8, 10]\n",
      "[2, 4, 6]\n"
     ]
    }
   ],
   "source": [
    "print(listbox[3:])\n",
    "print(listbox[:3])"
   ]
  },
  {
   "cell_type": "code",
   "execution_count": 101,
   "id": "ff035395",
   "metadata": {},
   "outputs": [
    {
     "name": "stdout",
     "output_type": "stream",
     "text": [
      "[2, 6, 10]\n"
     ]
    }
   ],
   "source": [
    "print(listbox[::2]) # every second element\n",
    "# list[start:end:step]"
   ]
  },
  {
   "cell_type": "code",
   "execution_count": 102,
   "id": "3eaf1aa2",
   "metadata": {},
   "outputs": [
    {
     "name": "stdout",
     "output_type": "stream",
     "text": [
      "[2, 10, 20, 8, 10]\n"
     ]
    }
   ],
   "source": [
    "listbox[1:3] = [10, 20]  # replace elements at index 1 and 2\n",
    "print(listbox)"
   ]
  },
  {
   "cell_type": "markdown",
   "id": "3aef7f79",
   "metadata": {},
   "source": [
    "12. Built-in Functions"
   ]
  },
  {
   "cell_type": "code",
   "execution_count": 1,
   "id": "28382de0",
   "metadata": {},
   "outputs": [
    {
     "data": {
      "text/plain": [
       "30"
      ]
     },
     "execution_count": 1,
     "metadata": {},
     "output_type": "execute_result"
    }
   ],
   "source": [
    "listbox = [4,2,10,6,8]\n",
    "sum(listbox)"
   ]
  },
  {
   "cell_type": "code",
   "execution_count": 2,
   "id": "fb799628",
   "metadata": {},
   "outputs": [
    {
     "data": {
      "text/plain": [
       "2"
      ]
     },
     "execution_count": 2,
     "metadata": {},
     "output_type": "execute_result"
    }
   ],
   "source": [
    "boolbox = [True, False, True]\n",
    "sum(boolbox)  # True is 1, False is 0"
   ]
  },
  {
   "cell_type": "code",
   "execution_count": 3,
   "id": "06fcc37d",
   "metadata": {},
   "outputs": [
    {
     "name": "stdout",
     "output_type": "stream",
     "text": [
      "10\n",
      "2\n",
      "5\n"
     ]
    }
   ],
   "source": [
    "print(max(listbox))\n",
    "print(min(listbox))\n",
    "print(len(listbox)) "
   ]
  },
  {
   "cell_type": "code",
   "execution_count": 6,
   "id": "c036da3e",
   "metadata": {},
   "outputs": [
    {
     "data": {
      "text/plain": [
       "1.23"
      ]
     },
     "execution_count": 6,
     "metadata": {},
     "output_type": "execute_result"
    }
   ],
   "source": [
    "round(1.2345, 2) # round to 2 decimal places"
   ]
  },
  {
   "cell_type": "code",
   "execution_count": 8,
   "id": "9293dbf5",
   "metadata": {},
   "outputs": [
    {
     "data": {
      "text/plain": [
       "1.24"
      ]
     },
     "execution_count": 8,
     "metadata": {},
     "output_type": "execute_result"
    }
   ],
   "source": [
    "round(1.2375, 2)"
   ]
  },
  {
   "cell_type": "markdown",
   "id": "bda6bdfb",
   "metadata": {},
   "source": [
    "13. Strings"
   ]
  },
  {
   "cell_type": "code",
   "execution_count": 11,
   "id": "2922f324",
   "metadata": {},
   "outputs": [
    {
     "data": {
      "text/plain": [
       "'Big Data Analysis Certification'"
      ]
     },
     "execution_count": 11,
     "metadata": {},
     "output_type": "execute_result"
    }
   ],
   "source": [
    "text = \"Big Data Analysis Study\"\n",
    "text = text.replace(\"Study\", \"Certification\")\n",
    "text"
   ]
  },
  {
   "cell_type": "code",
   "execution_count": 12,
   "id": "ce128afd",
   "metadata": {},
   "outputs": [
    {
     "data": {
      "text/plain": [
       "'Big Data Analysis Machine learning Certification'"
      ]
     },
     "execution_count": 12,
     "metadata": {},
     "output_type": "execute_result"
    }
   ],
   "source": [
    "text = \"Big Data Analysis Python Study\"\n",
    "text = text.replace(\"Python\",\"Machine learning\").replace(\"Study\", \"Certification\")\n",
    "text"
   ]
  },
  {
   "cell_type": "code",
   "execution_count": 13,
   "id": "c6d74c50",
   "metadata": {},
   "outputs": [
    {
     "data": {
      "text/plain": [
       "'안녕'"
      ]
     },
     "execution_count": 13,
     "metadata": {},
     "output_type": "execute_result"
    }
   ],
   "source": [
    "text = \"안녕하세요! 함께 성장해요.\"\n",
    "text[:2]"
   ]
  },
  {
   "cell_type": "code",
   "execution_count": 14,
   "id": "41e4a380",
   "metadata": {},
   "outputs": [
    {
     "data": {
      "text/plain": [
       "'06-03'"
      ]
     },
     "execution_count": 14,
     "metadata": {},
     "output_type": "execute_result"
    }
   ],
   "source": [
    "date=\"2025-06-03\"\n",
    "date[5:]"
   ]
  },
  {
   "cell_type": "code",
   "execution_count": 16,
   "id": "6425a8ba",
   "metadata": {},
   "outputs": [
    {
     "name": "stdout",
     "output_type": "stream",
     "text": [
      "['2025', '06', '03']\n",
      "['안녕하세요!', '함께', '성장해요.']\n"
     ]
    }
   ],
   "source": [
    "print(date.split(\"-\")) # split by hyphen\n",
    "print(text.split(\" \"))"
   ]
  },
  {
   "cell_type": "code",
   "execution_count": 18,
   "id": "dc69aa89",
   "metadata": {},
   "outputs": [
    {
     "data": {
      "text/plain": [
       "['2', '0', '2', '5', '-', '0', '6', '-', '0', '3']"
      ]
     },
     "execution_count": 18,
     "metadata": {},
     "output_type": "execute_result"
    }
   ],
   "source": [
    "list(date) # convert string to a list of each character"
   ]
  },
  {
   "cell_type": "markdown",
   "id": "4770aac6",
   "metadata": {},
   "source": [
    "14. Loops"
   ]
  },
  {
   "cell_type": "code",
   "execution_count": 19,
   "id": "ab9a12a2",
   "metadata": {},
   "outputs": [
    {
     "name": "stdout",
     "output_type": "stream",
     "text": [
      "2\n",
      "4\n",
      "6\n",
      "8\n",
      "10\n"
     ]
    }
   ],
   "source": [
    "listbox=[2,4,6,8,10]\n",
    "for item in listbox:\n",
    "    print(item)"
   ]
  },
  {
   "cell_type": "code",
   "execution_count": 20,
   "id": "9063a44c",
   "metadata": {},
   "outputs": [
    {
     "name": "stdout",
     "output_type": "stream",
     "text": [
      "Big\n",
      "Data\n",
      "Analysis\n"
     ]
    }
   ],
   "source": [
    "listbox=['Big', 'Data', 'Analysis']\n",
    "for i in listbox:\n",
    "    print(i)"
   ]
  },
  {
   "cell_type": "code",
   "execution_count": 21,
   "id": "b000e854",
   "metadata": {},
   "outputs": [
    {
     "name": "stdout",
     "output_type": "stream",
     "text": [
      "2\n",
      "4\n",
      "6\n",
      "8\n",
      "10\n",
      "End of loop\n"
     ]
    }
   ],
   "source": [
    "listbox=[2,4,6,8,10]\n",
    "for item in listbox:\n",
    "    print(item)\n",
    "print(\"End of loop\")"
   ]
  },
  {
   "cell_type": "code",
   "execution_count": 23,
   "id": "a6cdecbe",
   "metadata": {},
   "outputs": [
    {
     "name": "stdout",
     "output_type": "stream",
     "text": [
      "3\n",
      "5\n",
      "7\n",
      "9\n",
      "11\n"
     ]
    }
   ],
   "source": [
    "listbox=[2,4,6,8,10]\n",
    "for item in listbox:\n",
    "    result = item + 1\n",
    "    print(result)"
   ]
  },
  {
   "cell_type": "code",
   "execution_count": 24,
   "id": "46247999",
   "metadata": {},
   "outputs": [
    {
     "name": "stdout",
     "output_type": "stream",
     "text": [
      "0\n",
      "1\n",
      "2\n",
      "3\n",
      "4\n"
     ]
    }
   ],
   "source": [
    "# range\n",
    "for item in range(5):\n",
    "    print(item)"
   ]
  },
  {
   "cell_type": "code",
   "execution_count": 25,
   "id": "3d3d9bcb",
   "metadata": {},
   "outputs": [
    {
     "name": "stdout",
     "output_type": "stream",
     "text": [
      "5\n",
      "6\n",
      "7\n",
      "8\n",
      "9\n"
     ]
    }
   ],
   "source": [
    "for i in range(5, 10):\n",
    "    print(i)"
   ]
  },
  {
   "cell_type": "code",
   "execution_count": null,
   "id": "275f184f",
   "metadata": {},
   "outputs": [
    {
     "data": {
      "text/plain": [
       "[1, 2, 3, 4, 5]"
      ]
     },
     "execution_count": 26,
     "metadata": {},
     "output_type": "execute_result"
    }
   ],
   "source": [
    "## Advanced topics (listbox append)\n",
    "listbox = []\n",
    "for i in range(1,6):\n",
    "    listbox.append(i)\n",
    "\n",
    "listbox"
   ]
  },
  {
   "cell_type": "code",
   "execution_count": 27,
   "id": "3ca6fe49",
   "metadata": {},
   "outputs": [
    {
     "name": "stdout",
     "output_type": "stream",
     "text": [
      "0 Big\n",
      "1 Data\n",
      "2 Analysis\n"
     ]
    }
   ],
   "source": [
    "## Advanced topics (enumerate)\n",
    "listbox = [\"Big\", \"Data\", \"Analysis\"]\n",
    "for index, item in enumerate(listbox):\n",
    "    print(index, item)"
   ]
  },
  {
   "cell_type": "code",
   "execution_count": 29,
   "id": "a64bbe6f",
   "metadata": {},
   "outputs": [
    {
     "name": "stdout",
     "output_type": "stream",
     "text": [
      "name Alice\n",
      "age 30\n",
      "city New York\n",
      "hobbies ['reading', 'traveling', 'cooking']\n"
     ]
    }
   ],
   "source": [
    "## Advanced topics (zip)\n",
    "person_info = {\n",
    "    'name' : 'Alice',\n",
    "    'age' : 30,\n",
    "    'city' : 'New York',\n",
    "    'hobbies' : ['reading', 'traveling', 'cooking']\n",
    "}\n",
    "\n",
    "for k, v in zip(person_info.keys(), person_info.values()):\n",
    "    print(k,v)"
   ]
  },
  {
   "cell_type": "markdown",
   "id": "c46372e8",
   "metadata": {},
   "source": [
    "15. Functions"
   ]
  },
  {
   "cell_type": "code",
   "execution_count": 31,
   "id": "587dcead",
   "metadata": {},
   "outputs": [
    {
     "name": "stdout",
     "output_type": "stream",
     "text": [
      "Hello everyone!\n"
     ]
    }
   ],
   "source": [
    "def hello():\n",
    "    print(\"Hello everyone!\")\n",
    "hello()"
   ]
  },
  {
   "cell_type": "code",
   "execution_count": null,
   "id": "b5d0b2b3",
   "metadata": {},
   "outputs": [
    {
     "name": "stdout",
     "output_type": "stream",
     "text": [
      "hello Alice\n"
     ]
    }
   ],
   "source": [
    "def hello(name):\n",
    "    print(\"hello \" + name) # name is only available inside the function\n",
    "\n",
    "hello(\"Alice\")"
   ]
  },
  {
   "cell_type": "code",
   "execution_count": 33,
   "id": "2ebba372",
   "metadata": {},
   "outputs": [
    {
     "name": "stdout",
     "output_type": "stream",
     "text": [
      "30\n"
     ]
    }
   ],
   "source": [
    "def plus(a, b):\n",
    "    print(a+b)\n",
    "\n",
    "c = 10\n",
    "d = 20\n",
    "plus(c, d) "
   ]
  },
  {
   "cell_type": "code",
   "execution_count": 34,
   "id": "96ec30bb",
   "metadata": {},
   "outputs": [
    {
     "name": "stdout",
     "output_type": "stream",
     "text": [
      "6\n"
     ]
    }
   ],
   "source": [
    "def plus(x, y):\n",
    "    result = x+y\n",
    "    return result\n",
    "\n",
    "a = plus(2,4)\n",
    "print(a)"
   ]
  },
  {
   "cell_type": "code",
   "execution_count": 37,
   "id": "b4a1e17a",
   "metadata": {},
   "outputs": [
    {
     "name": "stdout",
     "output_type": "stream",
     "text": [
      "15 78\n"
     ]
    }
   ],
   "source": [
    "listbox = [15, 46, 78, 24, 56]\n",
    "def min_max(data):\n",
    "    mi = min(data)\n",
    "    ma = max(data)\n",
    "    return mi, ma\n",
    "\n",
    "a, b = min_max(listbox)\n",
    "print(a, b)"
   ]
  },
  {
   "cell_type": "code",
   "execution_count": 39,
   "id": "4b7ccb60",
   "metadata": {},
   "outputs": [
    {
     "data": {
      "text/plain": [
       "43.8"
      ]
     },
     "execution_count": 39,
     "metadata": {},
     "output_type": "execute_result"
    }
   ],
   "source": [
    "listbox = [15, 46, 78, 24, 56]\n",
    "def mean(data):\n",
    "    return sum(data) / len(data)\n",
    "\n",
    "mean(listbox)"
   ]
  },
  {
   "cell_type": "code",
   "execution_count": null,
   "id": "00a28cc8",
   "metadata": {},
   "outputs": [],
   "source": []
  }
 ],
 "metadata": {
  "kernelspec": {
   "display_name": "base",
   "language": "python",
   "name": "python3"
  },
  "language_info": {
   "codemirror_mode": {
    "name": "ipython",
    "version": 3
   },
   "file_extension": ".py",
   "mimetype": "text/x-python",
   "name": "python",
   "nbconvert_exporter": "python",
   "pygments_lexer": "ipython3",
   "version": "3.12.3"
  }
 },
 "nbformat": 4,
 "nbformat_minor": 5
}
