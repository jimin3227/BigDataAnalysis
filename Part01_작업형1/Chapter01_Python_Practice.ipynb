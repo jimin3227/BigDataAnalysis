{
 "cells": [
  {
   "cell_type": "markdown",
   "id": "37ba60e7",
   "metadata": {},
   "source": [
    "Q1~Q7"
   ]
  },
  {
   "cell_type": "code",
   "execution_count": 1,
   "id": "e8c66de7",
   "metadata": {},
   "outputs": [
    {
     "data": {
      "text/plain": [
       "8"
      ]
     },
     "execution_count": 1,
     "metadata": {},
     "output_type": "execute_result"
    }
   ],
   "source": [
    "# Q1.\n",
    "listbox = [\"Gratitude\", \"Joy\", \"Love\", \"Harmony\", \"Serenity\", \"Hope\", \"Peace\", \"Kindness\"]\n",
    "len(listbox)"
   ]
  },
  {
   "cell_type": "code",
   "execution_count": 2,
   "id": "abe487a3",
   "metadata": {},
   "outputs": [
    {
     "data": {
      "text/plain": [
       "'Gratitude'"
      ]
     },
     "execution_count": 2,
     "metadata": {},
     "output_type": "execute_result"
    }
   ],
   "source": [
    "# Q2.\n",
    "listbox[0]"
   ]
  },
  {
   "cell_type": "code",
   "execution_count": 3,
   "id": "327db3bb",
   "metadata": {},
   "outputs": [
    {
     "data": {
      "text/plain": [
       "'Kindness'"
      ]
     },
     "execution_count": 3,
     "metadata": {},
     "output_type": "execute_result"
    }
   ],
   "source": [
    "# Q3.\n",
    "listbox[-1]"
   ]
  },
  {
   "cell_type": "code",
   "execution_count": 4,
   "id": "8ff27cd1",
   "metadata": {},
   "outputs": [
    {
     "data": {
      "text/plain": [
       "['Gratitude', 'Joy', 'Love']"
      ]
     },
     "execution_count": 4,
     "metadata": {},
     "output_type": "execute_result"
    }
   ],
   "source": [
    "# Q4.\n",
    "listbox[:3]"
   ]
  },
  {
   "cell_type": "code",
   "execution_count": 5,
   "id": "1af1cb6c",
   "metadata": {},
   "outputs": [
    {
     "data": {
      "text/plain": [
       "'Peace'"
      ]
     },
     "execution_count": 5,
     "metadata": {},
     "output_type": "execute_result"
    }
   ],
   "source": [
    "# Q5.\n",
    "listbox[-2]"
   ]
  },
  {
   "cell_type": "code",
   "execution_count": 6,
   "id": "fef6f76d",
   "metadata": {},
   "outputs": [
    {
     "data": {
      "text/plain": [
       "['Joy', 'Love']"
      ]
     },
     "execution_count": 6,
     "metadata": {},
     "output_type": "execute_result"
    }
   ],
   "source": [
    "listbox[1:3]"
   ]
  },
  {
   "cell_type": "code",
   "execution_count": 8,
   "id": "f8da3260",
   "metadata": {},
   "outputs": [
    {
     "data": {
      "text/plain": [
       "['Gratitude',\n",
       " 'Joy',\n",
       " 'Love',\n",
       " 'Harmony',\n",
       " 'Serenity',\n",
       " 'Laughter',\n",
       " 'Peace',\n",
       " 'Kindness']"
      ]
     },
     "execution_count": 8,
     "metadata": {},
     "output_type": "execute_result"
    }
   ],
   "source": [
    "listbox[-3] = \"Laughter\"\n",
    "listbox"
   ]
  },
  {
   "cell_type": "code",
   "execution_count": 9,
   "id": "f1eca9e4",
   "metadata": {},
   "outputs": [
    {
     "name": "stdout",
     "output_type": "stream",
     "text": [
      "name\n",
      "age\n",
      "phone\n"
     ]
    }
   ],
   "source": [
    "# Q8.\n",
    "cols = ['name', 'age', 'phone']\n",
    "for item in cols:\n",
    "    print (item)\n"
   ]
  },
  {
   "cell_type": "code",
   "execution_count": 10,
   "id": "c8b9d9e5",
   "metadata": {},
   "outputs": [
    {
     "name": "stdout",
     "output_type": "stream",
     "text": [
      "63\n"
     ]
    }
   ],
   "source": [
    "# Q9.\n",
    "listbox = [15, 46, 78, 24, 56]\n",
    "def max_min(listbox):\n",
    "    ma = max(listbox)\n",
    "    mi = min(listbox)\n",
    "    return ma-mi\n",
    "\n",
    "print(max_min((listbox)))"
   ]
  },
  {
   "cell_type": "code",
   "execution_count": 12,
   "id": "38e9881d",
   "metadata": {},
   "outputs": [
    {
     "data": {
      "text/plain": [
       "'당신의 합격을 응원합니다!'"
      ]
     },
     "execution_count": 12,
     "metadata": {},
     "output_type": "execute_result"
    }
   ],
   "source": [
    "#10.\n",
    "str_data = \"여러분의 합격을 응원합니다!\"\n",
    "str_data.replace(\"여러분\", \"당신\")"
   ]
  }
 ],
 "metadata": {
  "kernelspec": {
   "display_name": "base",
   "language": "python",
   "name": "python3"
  },
  "language_info": {
   "codemirror_mode": {
    "name": "ipython",
    "version": 3
   },
   "file_extension": ".py",
   "mimetype": "text/x-python",
   "name": "python",
   "nbconvert_exporter": "python",
   "pygments_lexer": "ipython3",
   "version": "3.12.3"
  }
 },
 "nbformat": 4,
 "nbformat_minor": 5
}
