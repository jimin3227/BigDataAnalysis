{
 "cells": [
  {
   "cell_type": "markdown",
   "id": "47000b27",
   "metadata": {},
   "source": [
    "Section 01"
   ]
  },
  {
   "cell_type": "code",
   "execution_count": 6,
   "id": "707b4a0d",
   "metadata": {},
   "outputs": [
    {
     "data": {
      "text/html": [
       "<div>\n",
       "<style scoped>\n",
       "    .dataframe tbody tr th:only-of-type {\n",
       "        vertical-align: middle;\n",
       "    }\n",
       "\n",
       "    .dataframe tbody tr th {\n",
       "        vertical-align: top;\n",
       "    }\n",
       "\n",
       "    .dataframe thead th {\n",
       "        text-align: right;\n",
       "    }\n",
       "</style>\n",
       "<table border=\"1\" class=\"dataframe\">\n",
       "  <thead>\n",
       "    <tr style=\"text-align: right;\">\n",
       "      <th></th>\n",
       "      <th>id</th>\n",
       "      <th>age</th>\n",
       "      <th>city</th>\n",
       "      <th>f1</th>\n",
       "      <th>f2</th>\n",
       "      <th>f3</th>\n",
       "      <th>f4</th>\n",
       "      <th>f5</th>\n",
       "      <th>subscribed</th>\n",
       "      <th>views</th>\n",
       "    </tr>\n",
       "  </thead>\n",
       "  <tbody>\n",
       "    <tr>\n",
       "      <th>0</th>\n",
       "      <td>id01</td>\n",
       "      <td>2.0</td>\n",
       "      <td>서울</td>\n",
       "      <td>NaN</td>\n",
       "      <td>0</td>\n",
       "      <td>gold</td>\n",
       "      <td>ENFJ</td>\n",
       "      <td>91.297791</td>\n",
       "      <td>2024-07-16</td>\n",
       "      <td>6820.0</td>\n",
       "    </tr>\n",
       "    <tr>\n",
       "      <th>1</th>\n",
       "      <td>id02</td>\n",
       "      <td>9.0</td>\n",
       "      <td>서울</td>\n",
       "      <td>70.0</td>\n",
       "      <td>1</td>\n",
       "      <td>NaN</td>\n",
       "      <td>ENFJ</td>\n",
       "      <td>60.339826</td>\n",
       "      <td>2024-05-12</td>\n",
       "      <td>2534.0</td>\n",
       "    </tr>\n",
       "    <tr>\n",
       "      <th>2</th>\n",
       "      <td>id03</td>\n",
       "      <td>27.0</td>\n",
       "      <td>서울</td>\n",
       "      <td>61.0</td>\n",
       "      <td>1</td>\n",
       "      <td>gold</td>\n",
       "      <td>ISTJ</td>\n",
       "      <td>17.252986</td>\n",
       "      <td>2024-03-16</td>\n",
       "      <td>7312.0</td>\n",
       "    </tr>\n",
       "    <tr>\n",
       "      <th>3</th>\n",
       "      <td>id04</td>\n",
       "      <td>75.0</td>\n",
       "      <td>서울</td>\n",
       "      <td>NaN</td>\n",
       "      <td>2</td>\n",
       "      <td>NaN</td>\n",
       "      <td>INFP</td>\n",
       "      <td>52.667078</td>\n",
       "      <td>2024-07-21</td>\n",
       "      <td>493.0</td>\n",
       "    </tr>\n",
       "    <tr>\n",
       "      <th>4</th>\n",
       "      <td>id05</td>\n",
       "      <td>24.0</td>\n",
       "      <td>서울</td>\n",
       "      <td>85.0</td>\n",
       "      <td>2</td>\n",
       "      <td>NaN</td>\n",
       "      <td>ISFJ</td>\n",
       "      <td>29.269869</td>\n",
       "      <td>2024-03-07</td>\n",
       "      <td>1338.0</td>\n",
       "    </tr>\n",
       "  </tbody>\n",
       "</table>\n",
       "</div>"
      ],
      "text/plain": [
       "     id   age city    f1  f2    f3    f4         f5  subscribed   views\n",
       "0  id01   2.0   서울   NaN   0  gold  ENFJ  91.297791  2024-07-16  6820.0\n",
       "1  id02   9.0   서울  70.0   1   NaN  ENFJ  60.339826  2024-05-12  2534.0\n",
       "2  id03  27.0   서울  61.0   1  gold  ISTJ  17.252986  2024-03-16  7312.0\n",
       "3  id04  75.0   서울   NaN   2   NaN  INFP  52.667078  2024-07-21   493.0\n",
       "4  id05  24.0   서울  85.0   2   NaN  ISFJ  29.269869  2024-03-07  1338.0"
      ]
     },
     "execution_count": 6,
     "metadata": {},
     "output_type": "execute_result"
    }
   ],
   "source": [
    "import pandas as pd\n",
    "df = pd.read_csv(\"type1_data1.csv\")\n",
    "\n",
    "df.head(5)"
   ]
  },
  {
   "cell_type": "code",
   "execution_count": 10,
   "id": "44258966",
   "metadata": {},
   "outputs": [
    {
     "data": {
      "text/html": [
       "<div>\n",
       "<style scoped>\n",
       "    .dataframe tbody tr th:only-of-type {\n",
       "        vertical-align: middle;\n",
       "    }\n",
       "\n",
       "    .dataframe tbody tr th {\n",
       "        vertical-align: top;\n",
       "    }\n",
       "\n",
       "    .dataframe thead th {\n",
       "        text-align: right;\n",
       "    }\n",
       "</style>\n",
       "<table border=\"1\" class=\"dataframe\">\n",
       "  <thead>\n",
       "    <tr style=\"text-align: right;\">\n",
       "      <th></th>\n",
       "      <th>id</th>\n",
       "      <th>age</th>\n",
       "      <th>city</th>\n",
       "      <th>f1</th>\n",
       "      <th>f2</th>\n",
       "      <th>f3</th>\n",
       "      <th>f4</th>\n",
       "      <th>f5</th>\n",
       "      <th>subscribed</th>\n",
       "      <th>views</th>\n",
       "    </tr>\n",
       "  </thead>\n",
       "  <tbody>\n",
       "    <tr>\n",
       "      <th>0</th>\n",
       "      <td>id01</td>\n",
       "      <td>2.0</td>\n",
       "      <td>서울</td>\n",
       "      <td>NaN</td>\n",
       "      <td>0</td>\n",
       "      <td>gold</td>\n",
       "      <td>ENFJ</td>\n",
       "      <td>91.297791</td>\n",
       "      <td>2024-07-16</td>\n",
       "      <td>6820.0</td>\n",
       "    </tr>\n",
       "    <tr>\n",
       "      <th>1</th>\n",
       "      <td>id02</td>\n",
       "      <td>9.0</td>\n",
       "      <td>서울</td>\n",
       "      <td>70.0</td>\n",
       "      <td>1</td>\n",
       "      <td>NaN</td>\n",
       "      <td>ENFJ</td>\n",
       "      <td>60.339826</td>\n",
       "      <td>2024-05-12</td>\n",
       "      <td>2534.0</td>\n",
       "    </tr>\n",
       "    <tr>\n",
       "      <th>2</th>\n",
       "      <td>id03</td>\n",
       "      <td>27.0</td>\n",
       "      <td>서울</td>\n",
       "      <td>61.0</td>\n",
       "      <td>1</td>\n",
       "      <td>gold</td>\n",
       "      <td>ISTJ</td>\n",
       "      <td>17.252986</td>\n",
       "      <td>2024-03-16</td>\n",
       "      <td>7312.0</td>\n",
       "    </tr>\n",
       "    <tr>\n",
       "      <th>3</th>\n",
       "      <td>id04</td>\n",
       "      <td>75.0</td>\n",
       "      <td>서울</td>\n",
       "      <td>NaN</td>\n",
       "      <td>2</td>\n",
       "      <td>NaN</td>\n",
       "      <td>INFP</td>\n",
       "      <td>52.667078</td>\n",
       "      <td>2024-07-21</td>\n",
       "      <td>493.0</td>\n",
       "    </tr>\n",
       "    <tr>\n",
       "      <th>4</th>\n",
       "      <td>id05</td>\n",
       "      <td>24.0</td>\n",
       "      <td>서울</td>\n",
       "      <td>85.0</td>\n",
       "      <td>2</td>\n",
       "      <td>NaN</td>\n",
       "      <td>ISFJ</td>\n",
       "      <td>29.269869</td>\n",
       "      <td>2024-03-07</td>\n",
       "      <td>1338.0</td>\n",
       "    </tr>\n",
       "    <tr>\n",
       "      <th>...</th>\n",
       "      <td>...</td>\n",
       "      <td>...</td>\n",
       "      <td>...</td>\n",
       "      <td>...</td>\n",
       "      <td>...</td>\n",
       "      <td>...</td>\n",
       "      <td>...</td>\n",
       "      <td>...</td>\n",
       "      <td>...</td>\n",
       "      <td>...</td>\n",
       "    </tr>\n",
       "    <tr>\n",
       "      <th>97</th>\n",
       "      <td>id97</td>\n",
       "      <td>100.0</td>\n",
       "      <td>경기</td>\n",
       "      <td>NaN</td>\n",
       "      <td>0</td>\n",
       "      <td>gold</td>\n",
       "      <td>INFP</td>\n",
       "      <td>67.886373</td>\n",
       "      <td>2024-03-18</td>\n",
       "      <td>6687.0</td>\n",
       "    </tr>\n",
       "    <tr>\n",
       "      <th>98</th>\n",
       "      <td>id98</td>\n",
       "      <td>39.0</td>\n",
       "      <td>경기</td>\n",
       "      <td>58.0</td>\n",
       "      <td>2</td>\n",
       "      <td>NaN</td>\n",
       "      <td>INFP</td>\n",
       "      <td>98.429899</td>\n",
       "      <td>2024-10-02</td>\n",
       "      <td>865.0</td>\n",
       "    </tr>\n",
       "    <tr>\n",
       "      <th>99</th>\n",
       "      <td>id99</td>\n",
       "      <td>1.0</td>\n",
       "      <td>경기</td>\n",
       "      <td>47.0</td>\n",
       "      <td>0</td>\n",
       "      <td>gold</td>\n",
       "      <td>ESFJ</td>\n",
       "      <td>97.381034</td>\n",
       "      <td>2024-12-02</td>\n",
       "      <td>6090.0</td>\n",
       "    </tr>\n",
       "    <tr>\n",
       "      <th>100</th>\n",
       "      <td>id100</td>\n",
       "      <td>47.0</td>\n",
       "      <td>경기</td>\n",
       "      <td>53.0</td>\n",
       "      <td>0</td>\n",
       "      <td>vip</td>\n",
       "      <td>ESFP</td>\n",
       "      <td>33.308999</td>\n",
       "      <td>2024-02-21</td>\n",
       "      <td>15535.0</td>\n",
       "    </tr>\n",
       "    <tr>\n",
       "      <th>101</th>\n",
       "      <td>id68</td>\n",
       "      <td>35.0</td>\n",
       "      <td>경기</td>\n",
       "      <td>45.0</td>\n",
       "      <td>2</td>\n",
       "      <td>gold</td>\n",
       "      <td>ISFP</td>\n",
       "      <td>67.886373</td>\n",
       "      <td>2024-07-29</td>\n",
       "      <td>8599.0</td>\n",
       "    </tr>\n",
       "  </tbody>\n",
       "</table>\n",
       "<p>102 rows × 10 columns</p>\n",
       "</div>"
      ],
      "text/plain": [
       "        id    age city    f1  f2    f3    f4         f5  subscribed    views\n",
       "0     id01    2.0   서울   NaN   0  gold  ENFJ  91.297791  2024-07-16   6820.0\n",
       "1     id02    9.0   서울  70.0   1   NaN  ENFJ  60.339826  2024-05-12   2534.0\n",
       "2     id03   27.0   서울  61.0   1  gold  ISTJ  17.252986  2024-03-16   7312.0\n",
       "3     id04   75.0   서울   NaN   2   NaN  INFP  52.667078  2024-07-21    493.0\n",
       "4     id05   24.0   서울  85.0   2   NaN  ISFJ  29.269869  2024-03-07   1338.0\n",
       "..     ...    ...  ...   ...  ..   ...   ...        ...         ...      ...\n",
       "97    id97  100.0   경기   NaN   0  gold  INFP  67.886373  2024-03-18   6687.0\n",
       "98    id98   39.0   경기  58.0   2   NaN  INFP  98.429899  2024-10-02    865.0\n",
       "99    id99    1.0   경기  47.0   0  gold  ESFJ  97.381034  2024-12-02   6090.0\n",
       "100  id100   47.0   경기  53.0   0   vip  ESFP  33.308999  2024-02-21  15535.0\n",
       "101   id68   35.0   경기  45.0   2  gold  ISFP  67.886373  2024-07-29   8599.0\n",
       "\n",
       "[102 rows x 10 columns]"
      ]
     },
     "execution_count": 10,
     "metadata": {},
     "output_type": "execute_result"
    }
   ],
   "source": [
    "cond=df[\"f5\"]!=0\n",
    "df2=df[cond]\n",
    "df2"
   ]
  },
  {
   "cell_type": "code",
   "execution_count": 15,
   "id": "17eb2efd",
   "metadata": {},
   "outputs": [],
   "source": [
    "min = df[\"views\"].min()\n",
    "df2[\"views\"]=df2[\"views\"].fillna(min)"
   ]
  },
  {
   "cell_type": "code",
   "execution_count": 16,
   "id": "86f4663a",
   "metadata": {},
   "outputs": [
    {
     "data": {
      "text/plain": [
       "5924.0"
      ]
     },
     "execution_count": 16,
     "metadata": {},
     "output_type": "execute_result"
    }
   ],
   "source": [
    "df2[\"views\"].median()"
   ]
  },
  {
   "cell_type": "markdown",
   "id": "ded9e04d",
   "metadata": {},
   "source": [
    "Section 02"
   ]
  },
  {
   "cell_type": "code",
   "execution_count": 18,
   "id": "79bccd63",
   "metadata": {},
   "outputs": [
    {
     "data": {
      "text/html": [
       "<div>\n",
       "<style scoped>\n",
       "    .dataframe tbody tr th:only-of-type {\n",
       "        vertical-align: middle;\n",
       "    }\n",
       "\n",
       "    .dataframe tbody tr th {\n",
       "        vertical-align: top;\n",
       "    }\n",
       "\n",
       "    .dataframe thead th {\n",
       "        text-align: right;\n",
       "    }\n",
       "</style>\n",
       "<table border=\"1\" class=\"dataframe\">\n",
       "  <thead>\n",
       "    <tr style=\"text-align: right;\">\n",
       "      <th></th>\n",
       "      <th>id</th>\n",
       "      <th>age</th>\n",
       "      <th>city</th>\n",
       "      <th>f1</th>\n",
       "      <th>f2</th>\n",
       "      <th>f3</th>\n",
       "      <th>f4</th>\n",
       "      <th>f5</th>\n",
       "      <th>subscribed</th>\n",
       "      <th>views</th>\n",
       "    </tr>\n",
       "  </thead>\n",
       "  <tbody>\n",
       "    <tr>\n",
       "      <th>0</th>\n",
       "      <td>id01</td>\n",
       "      <td>2.0</td>\n",
       "      <td>서울</td>\n",
       "      <td>NaN</td>\n",
       "      <td>0</td>\n",
       "      <td>gold</td>\n",
       "      <td>ENFJ</td>\n",
       "      <td>91.297791</td>\n",
       "      <td>2024-07-16</td>\n",
       "      <td>6820.0</td>\n",
       "    </tr>\n",
       "    <tr>\n",
       "      <th>1</th>\n",
       "      <td>id02</td>\n",
       "      <td>9.0</td>\n",
       "      <td>서울</td>\n",
       "      <td>70.0</td>\n",
       "      <td>1</td>\n",
       "      <td>NaN</td>\n",
       "      <td>ENFJ</td>\n",
       "      <td>60.339826</td>\n",
       "      <td>2024-05-12</td>\n",
       "      <td>2534.0</td>\n",
       "    </tr>\n",
       "    <tr>\n",
       "      <th>2</th>\n",
       "      <td>id03</td>\n",
       "      <td>27.0</td>\n",
       "      <td>서울</td>\n",
       "      <td>61.0</td>\n",
       "      <td>1</td>\n",
       "      <td>gold</td>\n",
       "      <td>ISTJ</td>\n",
       "      <td>17.252986</td>\n",
       "      <td>2024-03-16</td>\n",
       "      <td>7312.0</td>\n",
       "    </tr>\n",
       "    <tr>\n",
       "      <th>3</th>\n",
       "      <td>id04</td>\n",
       "      <td>75.0</td>\n",
       "      <td>서울</td>\n",
       "      <td>NaN</td>\n",
       "      <td>2</td>\n",
       "      <td>NaN</td>\n",
       "      <td>INFP</td>\n",
       "      <td>52.667078</td>\n",
       "      <td>2024-07-21</td>\n",
       "      <td>493.0</td>\n",
       "    </tr>\n",
       "    <tr>\n",
       "      <th>4</th>\n",
       "      <td>id05</td>\n",
       "      <td>24.0</td>\n",
       "      <td>서울</td>\n",
       "      <td>85.0</td>\n",
       "      <td>2</td>\n",
       "      <td>NaN</td>\n",
       "      <td>ISFJ</td>\n",
       "      <td>29.269869</td>\n",
       "      <td>2024-03-07</td>\n",
       "      <td>1338.0</td>\n",
       "    </tr>\n",
       "  </tbody>\n",
       "</table>\n",
       "</div>"
      ],
      "text/plain": [
       "     id   age city    f1  f2    f3    f4         f5  subscribed   views\n",
       "0  id01   2.0   서울   NaN   0  gold  ENFJ  91.297791  2024-07-16  6820.0\n",
       "1  id02   9.0   서울  70.0   1   NaN  ENFJ  60.339826  2024-05-12  2534.0\n",
       "2  id03  27.0   서울  61.0   1  gold  ISTJ  17.252986  2024-03-16  7312.0\n",
       "3  id04  75.0   서울   NaN   2   NaN  INFP  52.667078  2024-07-21   493.0\n",
       "4  id05  24.0   서울  85.0   2   NaN  ISFJ  29.269869  2024-03-07  1338.0"
      ]
     },
     "execution_count": 18,
     "metadata": {},
     "output_type": "execute_result"
    }
   ],
   "source": [
    "import pandas as pd\n",
    "df = pd.read_csv(\"type1_data1.csv\")\n",
    "df.head(5)"
   ]
  },
  {
   "cell_type": "code",
   "execution_count": 26,
   "id": "506a1bff",
   "metadata": {},
   "outputs": [
    {
     "data": {
      "text/plain": [
       "17"
      ]
     },
     "execution_count": 26,
     "metadata": {},
     "output_type": "execute_result"
    }
   ],
   "source": [
    "df2 = df[\"subscribed\"].value_counts()\n",
    "df3 = df[\"subscribed\"].mode()[0]\n",
    "pd.to_datetime(df3).day"
   ]
  },
  {
   "cell_type": "markdown",
   "id": "4315e371",
   "metadata": {},
   "source": [
    "Section 03"
   ]
  },
  {
   "cell_type": "code",
   "execution_count": 42,
   "id": "1c3b3188",
   "metadata": {},
   "outputs": [
    {
     "data": {
      "text/plain": [
       "22"
      ]
     },
     "execution_count": 42,
     "metadata": {},
     "output_type": "execute_result"
    }
   ],
   "source": [
    "df = pd.read_csv(\"type1_data1.csv\")\n",
    "\n",
    "df.dropna(inplace=True)\n",
    "\n",
    "df[\"new\"]=df[\"views\"]/df[\"f1\"]\n",
    "\n",
    "df.sort_values(\"new\", ascending=False , inplace=True)\n",
    "int(df.iloc[0,1])\n",
    "# df.iloc[:1][\"age\"].values[0]"
   ]
  },
  {
   "cell_type": "markdown",
   "id": "a79cf2bf",
   "metadata": {},
   "source": [
    "Section 04"
   ]
  },
  {
   "cell_type": "code",
   "execution_count": 16,
   "id": "6569aed8",
   "metadata": {},
   "outputs": [
    {
     "data": {
      "text/html": [
       "<div>\n",
       "<style scoped>\n",
       "    .dataframe tbody tr th:only-of-type {\n",
       "        vertical-align: middle;\n",
       "    }\n",
       "\n",
       "    .dataframe tbody tr th {\n",
       "        vertical-align: top;\n",
       "    }\n",
       "\n",
       "    .dataframe thead th {\n",
       "        text-align: right;\n",
       "    }\n",
       "</style>\n",
       "<table border=\"1\" class=\"dataframe\">\n",
       "  <thead>\n",
       "    <tr style=\"text-align: right;\">\n",
       "      <th></th>\n",
       "      <th>id</th>\n",
       "      <th>age</th>\n",
       "      <th>city</th>\n",
       "      <th>f1</th>\n",
       "      <th>f2</th>\n",
       "      <th>f3</th>\n",
       "      <th>f4</th>\n",
       "      <th>f5</th>\n",
       "      <th>subscribed</th>\n",
       "      <th>views</th>\n",
       "    </tr>\n",
       "  </thead>\n",
       "  <tbody>\n",
       "    <tr>\n",
       "      <th>0</th>\n",
       "      <td>id01</td>\n",
       "      <td>2.0</td>\n",
       "      <td>서울</td>\n",
       "      <td>NaN</td>\n",
       "      <td>0</td>\n",
       "      <td>gold</td>\n",
       "      <td>ENFJ</td>\n",
       "      <td>91.297791</td>\n",
       "      <td>2024-07-16</td>\n",
       "      <td>6820.0</td>\n",
       "    </tr>\n",
       "    <tr>\n",
       "      <th>1</th>\n",
       "      <td>id02</td>\n",
       "      <td>9.0</td>\n",
       "      <td>서울</td>\n",
       "      <td>70.0</td>\n",
       "      <td>1</td>\n",
       "      <td>NaN</td>\n",
       "      <td>ENFJ</td>\n",
       "      <td>60.339826</td>\n",
       "      <td>2024-05-12</td>\n",
       "      <td>2534.0</td>\n",
       "    </tr>\n",
       "    <tr>\n",
       "      <th>2</th>\n",
       "      <td>id03</td>\n",
       "      <td>27.0</td>\n",
       "      <td>서울</td>\n",
       "      <td>61.0</td>\n",
       "      <td>1</td>\n",
       "      <td>gold</td>\n",
       "      <td>ISTJ</td>\n",
       "      <td>17.252986</td>\n",
       "      <td>2024-03-16</td>\n",
       "      <td>7312.0</td>\n",
       "    </tr>\n",
       "    <tr>\n",
       "      <th>3</th>\n",
       "      <td>id04</td>\n",
       "      <td>75.0</td>\n",
       "      <td>서울</td>\n",
       "      <td>NaN</td>\n",
       "      <td>2</td>\n",
       "      <td>NaN</td>\n",
       "      <td>INFP</td>\n",
       "      <td>52.667078</td>\n",
       "      <td>2024-07-21</td>\n",
       "      <td>493.0</td>\n",
       "    </tr>\n",
       "    <tr>\n",
       "      <th>4</th>\n",
       "      <td>id05</td>\n",
       "      <td>24.0</td>\n",
       "      <td>서울</td>\n",
       "      <td>85.0</td>\n",
       "      <td>2</td>\n",
       "      <td>NaN</td>\n",
       "      <td>ISFJ</td>\n",
       "      <td>29.269869</td>\n",
       "      <td>2024-03-07</td>\n",
       "      <td>1338.0</td>\n",
       "    </tr>\n",
       "    <tr>\n",
       "      <th>5</th>\n",
       "      <td>id06</td>\n",
       "      <td>22.0</td>\n",
       "      <td>서울</td>\n",
       "      <td>57.0</td>\n",
       "      <td>0</td>\n",
       "      <td>vip</td>\n",
       "      <td>INTP</td>\n",
       "      <td>20.129444</td>\n",
       "      <td>2024-09-12</td>\n",
       "      <td>21550.0</td>\n",
       "    </tr>\n",
       "    <tr>\n",
       "      <th>6</th>\n",
       "      <td>id07</td>\n",
       "      <td>36.3</td>\n",
       "      <td>서울</td>\n",
       "      <td>60.0</td>\n",
       "      <td>1</td>\n",
       "      <td>NaN</td>\n",
       "      <td>ISFJ</td>\n",
       "      <td>9.796378</td>\n",
       "      <td>2024-01-11</td>\n",
       "      <td>61.0</td>\n",
       "    </tr>\n",
       "    <tr>\n",
       "      <th>7</th>\n",
       "      <td>id08</td>\n",
       "      <td>38.0</td>\n",
       "      <td>서울</td>\n",
       "      <td>101.0</td>\n",
       "      <td>1</td>\n",
       "      <td>silver</td>\n",
       "      <td>INFJ</td>\n",
       "      <td>83.685380</td>\n",
       "      <td>2024-03-06</td>\n",
       "      <td>3260.0</td>\n",
       "    </tr>\n",
       "    <tr>\n",
       "      <th>8</th>\n",
       "      <td>id09</td>\n",
       "      <td>3.3</td>\n",
       "      <td>서울</td>\n",
       "      <td>35.0</td>\n",
       "      <td>2</td>\n",
       "      <td>NaN</td>\n",
       "      <td>ESFJ</td>\n",
       "      <td>17.252986</td>\n",
       "      <td>2024-03-21</td>\n",
       "      <td>2764.0</td>\n",
       "    </tr>\n",
       "    <tr>\n",
       "      <th>9</th>\n",
       "      <td>id10</td>\n",
       "      <td>95.0</td>\n",
       "      <td>서울</td>\n",
       "      <td>74.0</td>\n",
       "      <td>1</td>\n",
       "      <td>gold</td>\n",
       "      <td>ISFP</td>\n",
       "      <td>98.429899</td>\n",
       "      <td>2024-04-03</td>\n",
       "      <td>9992.0</td>\n",
       "    </tr>\n",
       "  </tbody>\n",
       "</table>\n",
       "</div>"
      ],
      "text/plain": [
       "     id   age city     f1  f2      f3    f4         f5  subscribed    views\n",
       "0  id01   2.0   서울    NaN   0    gold  ENFJ  91.297791  2024-07-16   6820.0\n",
       "1  id02   9.0   서울   70.0   1     NaN  ENFJ  60.339826  2024-05-12   2534.0\n",
       "2  id03  27.0   서울   61.0   1    gold  ISTJ  17.252986  2024-03-16   7312.0\n",
       "3  id04  75.0   서울    NaN   2     NaN  INFP  52.667078  2024-07-21    493.0\n",
       "4  id05  24.0   서울   85.0   2     NaN  ISFJ  29.269869  2024-03-07   1338.0\n",
       "5  id06  22.0   서울   57.0   0     vip  INTP  20.129444  2024-09-12  21550.0\n",
       "6  id07  36.3   서울   60.0   1     NaN  ISFJ   9.796378  2024-01-11     61.0\n",
       "7  id08  38.0   서울  101.0   1  silver  INFJ  83.685380  2024-03-06   3260.0\n",
       "8  id09   3.3   서울   35.0   2     NaN  ESFJ  17.252986  2024-03-21   2764.0\n",
       "9  id10  95.0   서울   74.0   1    gold  ISFP  98.429899  2024-04-03   9992.0"
      ]
     },
     "execution_count": 16,
     "metadata": {},
     "output_type": "execute_result"
    }
   ],
   "source": [
    "import pandas as pd\n",
    "df = pd.read_csv(\"type1_data1.csv\")\n",
    "df['views']=df['views'].fillna(0)\n",
    "df.head(10)"
   ]
  },
  {
   "cell_type": "code",
   "execution_count": 25,
   "id": "3ff79fac",
   "metadata": {},
   "outputs": [
    {
     "data": {
      "text/plain": [
       "652812.0"
      ]
     },
     "execution_count": 25,
     "metadata": {},
     "output_type": "execute_result"
    }
   ],
   "source": [
    "val = df.iloc[9]['views']\n",
    "df = df.sort_values(by='views', ascending=False)\n",
    "df.iloc[0:10, 9] = val\n",
    "\n",
    "df.iloc[:, 9].sum()"
   ]
  },
  {
   "cell_type": "markdown",
   "id": "ebb3d644",
   "metadata": {},
   "source": [
    "Section 05"
   ]
  },
  {
   "cell_type": "code",
   "execution_count": 36,
   "id": "8e3fb2e0",
   "metadata": {},
   "outputs": [
    {
     "data": {
      "text/plain": [
       "0.61"
      ]
     },
     "execution_count": 36,
     "metadata": {},
     "output_type": "execute_result"
    }
   ],
   "source": [
    "import pandas as pd\n",
    "df = pd.read_csv(\"type1_data1.csv\")\n",
    "\n",
    "cond = df['f4'].str.contains(\"FJ\")\n",
    "df[cond]\n",
    "\n",
    "a = df[cond]['f2'].mean()\n",
    "round(a,2)"
   ]
  },
  {
   "cell_type": "markdown",
   "id": "2bcbb47a",
   "metadata": {},
   "source": [
    "Section 06"
   ]
  },
  {
   "cell_type": "code",
   "execution_count": 41,
   "id": "9df3f49c",
   "metadata": {},
   "outputs": [
    {
     "data": {
      "text/plain": [
       "235.43"
      ]
     },
     "execution_count": 41,
     "metadata": {},
     "output_type": "execute_result"
    }
   ],
   "source": [
    "import pandas as pd\n",
    "df = pd.read_csv(\"type1_data1.csv\")\n",
    "\n",
    "cond = (df['f3'] == \"gold\") & (df['f2'] == 2)\n",
    "df = df[cond]\n",
    "\n",
    "round(df['f1'].var(),2)"
   ]
  },
  {
   "cell_type": "markdown",
   "id": "9f8d9492",
   "metadata": {},
   "source": [
    "Section 07"
   ]
  },
  {
   "cell_type": "code",
   "execution_count": 47,
   "id": "9add46a1",
   "metadata": {},
   "outputs": [
    {
     "name": "stdout",
     "output_type": "stream",
     "text": [
      "263.13076923076915\n"
     ]
    }
   ],
   "source": [
    "import pandas as pd\n",
    "df = pd.read_csv(\"type1_data1.csv\")\n",
    "\n",
    "df['age'] = df['age']+1\n",
    "df.head(5)\n",
    "\n",
    "age20 = (df['age']>= 20) & (df['age']< 30)\n",
    "age30 = (df['age']>= 30) & (df['age']< 40)\n",
    "\n",
    "print(df[age20]['views'].mean() - df[age30]['views'].mean())"
   ]
  },
  {
   "cell_type": "markdown",
   "id": "b49a1fe7",
   "metadata": {},
   "source": [
    "Section 08"
   ]
  },
  {
   "cell_type": "code",
   "execution_count": 60,
   "id": "ec8dedd7",
   "metadata": {},
   "outputs": [
    {
     "data": {
      "text/plain": [
       "5"
      ]
     },
     "execution_count": 60,
     "metadata": {},
     "output_type": "execute_result"
    }
   ],
   "source": [
    "import pandas as pd\n",
    "df = pd.read_csv(\"type1_data1.csv\")\n",
    "\n",
    "df['subscribed'] = pd.to_datetime(df['subscribed'])\n",
    "cond = (df['subscribed'].dt.month == 2) & (df['subscribed'].dt.year == 2024)\n",
    "\n",
    "sum(df[cond]['f3']== \"gold\")\n"
   ]
  },
  {
   "cell_type": "markdown",
   "id": "e6776a6e",
   "metadata": {},
   "source": [
    "Section 09"
   ]
  },
  {
   "cell_type": "code",
   "execution_count": 63,
   "id": "a160910a",
   "metadata": {},
   "outputs": [
    {
     "data": {
      "text/plain": [
       "'ISFJ'"
      ]
     },
     "execution_count": 63,
     "metadata": {},
     "output_type": "execute_result"
    }
   ],
   "source": [
    "import pandas as pd\n",
    "df = pd.read_csv(\"type1_data1.csv\")\n",
    "\n",
    "cond1 = df['views'] <= 1000\n",
    "df = df[cond1]\n",
    "\n",
    "df['f4'].mode()[0]"
   ]
  },
  {
   "cell_type": "markdown",
   "id": "8dfab22b",
   "metadata": {},
   "source": [
    "Section 10"
   ]
  },
  {
   "cell_type": "code",
   "execution_count": 70,
   "id": "e495788e",
   "metadata": {},
   "outputs": [
    {
     "data": {
      "text/html": [
       "<div>\n",
       "<style scoped>\n",
       "    .dataframe tbody tr th:only-of-type {\n",
       "        vertical-align: middle;\n",
       "    }\n",
       "\n",
       "    .dataframe tbody tr th {\n",
       "        vertical-align: top;\n",
       "    }\n",
       "\n",
       "    .dataframe thead th {\n",
       "        text-align: right;\n",
       "    }\n",
       "</style>\n",
       "<table border=\"1\" class=\"dataframe\">\n",
       "  <thead>\n",
       "    <tr style=\"text-align: right;\">\n",
       "      <th></th>\n",
       "      <th>age</th>\n",
       "      <th>f1</th>\n",
       "      <th>f2</th>\n",
       "      <th>f5</th>\n",
       "      <th>views</th>\n",
       "    </tr>\n",
       "    <tr>\n",
       "      <th>city</th>\n",
       "      <th></th>\n",
       "      <th></th>\n",
       "      <th></th>\n",
       "      <th></th>\n",
       "      <th></th>\n",
       "    </tr>\n",
       "  </thead>\n",
       "  <tbody>\n",
       "    <tr>\n",
       "      <th>서울</th>\n",
       "      <td>38.000000</td>\n",
       "      <td>60.142857</td>\n",
       "      <td>0.785714</td>\n",
       "      <td>41.122705</td>\n",
       "      <td>7369.142857</td>\n",
       "    </tr>\n",
       "    <tr>\n",
       "      <th>경기</th>\n",
       "      <td>48.704000</td>\n",
       "      <td>61.360000</td>\n",
       "      <td>0.760000</td>\n",
       "      <td>52.106731</td>\n",
       "      <td>8127.880000</td>\n",
       "    </tr>\n",
       "    <tr>\n",
       "      <th>부산</th>\n",
       "      <td>35.075000</td>\n",
       "      <td>65.875000</td>\n",
       "      <td>0.687500</td>\n",
       "      <td>38.638715</td>\n",
       "      <td>6945.437500</td>\n",
       "    </tr>\n",
       "    <tr>\n",
       "      <th>대구</th>\n",
       "      <td>49.773333</td>\n",
       "      <td>66.200000</td>\n",
       "      <td>0.666667</td>\n",
       "      <td>27.370166</td>\n",
       "      <td>6819.133333</td>\n",
       "    </tr>\n",
       "  </tbody>\n",
       "</table>\n",
       "</div>"
      ],
      "text/plain": [
       "            age         f1        f2         f5        views\n",
       "city                                                        \n",
       "서울    38.000000  60.142857  0.785714  41.122705  7369.142857\n",
       "경기    48.704000  61.360000  0.760000  52.106731  8127.880000\n",
       "부산    35.075000  65.875000  0.687500  38.638715  6945.437500\n",
       "대구    49.773333  66.200000  0.666667  27.370166  6819.133333"
      ]
     },
     "execution_count": 70,
     "metadata": {},
     "output_type": "execute_result"
    }
   ],
   "source": [
    "import pandas as pd\n",
    "df = pd.read_csv(\"type1_data1.csv\")\n",
    "\n",
    "df.dropna(inplace=True)\n",
    "df.head(3)\n",
    "\n",
    "df= df.groupby('city').mean(numeric_only=True)\n",
    "df.sort_values('f2', ascending=False, inplace=True)\n",
    "df\n"
   ]
  },
  {
   "cell_type": "markdown",
   "id": "58ad5fc1",
   "metadata": {},
   "source": [
    "Section 11"
   ]
  },
  {
   "cell_type": "code",
   "execution_count": 81,
   "id": "16bc9b78",
   "metadata": {},
   "outputs": [
    {
     "data": {
      "text/plain": [
       "2771.0"
      ]
     },
     "execution_count": 81,
     "metadata": {},
     "output_type": "execute_result"
    }
   ],
   "source": [
    "import pandas as pd\n",
    "df = pd.read_csv(\"type1_data1.csv\")\n",
    "\n",
    "df.dropna(inplace=True)\n",
    "\n",
    "df.shape[0]*0.7\n",
    "\n",
    "df=df.iloc[0:49]\n",
    "\n",
    "df['views'].quantile(0.75)-df['views'].quantile(0.25)"
   ]
  },
  {
   "cell_type": "markdown",
   "id": "6f0c9d8e",
   "metadata": {},
   "source": [
    "Section 12"
   ]
  },
  {
   "cell_type": "code",
   "execution_count": 96,
   "id": "b2f9f19b",
   "metadata": {},
   "outputs": [
    {
     "data": {
      "text/plain": [
       "63"
      ]
     },
     "execution_count": 96,
     "metadata": {},
     "output_type": "execute_result"
    }
   ],
   "source": [
    "import pandas as pd\n",
    "df = pd.read_csv(\"type1_data1.csv\")\n",
    "\n",
    "df = df.dropna(subset=['f1'])\n",
    "\n",
    "mode = df['f3'].mode()[0]\n",
    "df['f3'] = df['f3'].fillna(mode)\n",
    "\n",
    "cond = (df['f3']=='gold')\n",
    "df[cond].shape[0]"
   ]
  },
  {
   "cell_type": "markdown",
   "id": "d554b155",
   "metadata": {},
   "source": [
    "Section 13"
   ]
  },
  {
   "cell_type": "code",
   "execution_count": 98,
   "id": "4586193e",
   "metadata": {},
   "outputs": [
    {
     "data": {
      "text/plain": [
       "53.6"
      ]
     },
     "execution_count": 98,
     "metadata": {},
     "output_type": "execute_result"
    }
   ],
   "source": [
    "import pandas as pd\n",
    "df = pd.read_csv(\"type1_data1.csv\")\n",
    "\n",
    "cond = df['f1'].isnull()\n",
    "df_null = df[cond]\n",
    "a = df_null['age'].mean()\n",
    "round(a,2)"
   ]
  },
  {
   "cell_type": "markdown",
   "id": "3944f67f",
   "metadata": {},
   "source": [
    "Section 14"
   ]
  },
  {
   "cell_type": "code",
   "execution_count": 102,
   "id": "74aa943a",
   "metadata": {},
   "outputs": [
    {
     "name": "stderr",
     "output_type": "stream",
     "text": [
      "C:\\Users\\문지민\\AppData\\Local\\Temp\\ipykernel_22080\\2976823772.py:8: FutureWarning: Downcasting behavior in `replace` is deprecated and will be removed in a future version. To retain the old behavior, explicitly call `result.infer_objects(copy=False)`. To opt-in to the future behavior, set `pd.set_option('future.no_silent_downcasting', True)`\n",
      "  df['f3'] = df['f3'].replace('vip', 3)\n"
     ]
    },
    {
     "data": {
      "text/plain": [
       "167"
      ]
     },
     "execution_count": 102,
     "metadata": {},
     "output_type": "execute_result"
    }
   ],
   "source": [
    "import pandas as pd\n",
    "df = pd.read_csv(\"type1_data1.csv\")\n",
    "\n",
    "df.drop_duplicates(inplace=True)\n",
    "df['f3'] = df['f3'].fillna(0)\n",
    "df['f3'] = df['f3'].replace('silver',1)\n",
    "df['f3'] = df['f3'].replace('gold', 2)\n",
    "df['f3'] = df['f3'].replace('vip', 3)\n",
    "\n",
    "int(df['f3'].sum())"
   ]
  },
  {
   "cell_type": "markdown",
   "id": "8a940ad6",
   "metadata": {},
   "source": [
    "Section 15"
   ]
  },
  {
   "cell_type": "code",
   "execution_count": 118,
   "id": "ed58cdab",
   "metadata": {},
   "outputs": [
    {
     "data": {
      "text/plain": [
       "88"
      ]
     },
     "execution_count": 118,
     "metadata": {},
     "output_type": "execute_result"
    }
   ],
   "source": [
    "import pandas as pd\n",
    "df = pd.read_csv(\"type1_data1.csv\")\n",
    "\n",
    "cols = df.select_dtypes(exclude='object').columns\n",
    "df= df[cols]\n",
    "df = df.fillna(0)\n",
    "df['add'] = df['age']+df['f1']+df['f2']+df['f5']+df['views']\n",
    "cond = df['add']>3000\n",
    "df = df[cond]\n",
    "len(df)"
   ]
  },
  {
   "cell_type": "markdown",
   "id": "db73071f",
   "metadata": {},
   "source": [
    "Section 16"
   ]
  },
  {
   "cell_type": "code",
   "execution_count": 122,
   "id": "55a39199",
   "metadata": {},
   "outputs": [
    {
     "data": {
      "text/plain": [
       "77699.0"
      ]
     },
     "execution_count": 122,
     "metadata": {},
     "output_type": "execute_result"
    }
   ],
   "source": [
    "import pandas as pd\n",
    "df = pd.read_csv(\"type1_data1.csv\")\n",
    "\n",
    "q3 = df['views'].quantile(0.75)\n",
    "q1 = df['views'].quantile(0.25)\n",
    "\n",
    "iqr = q3 - q1\n",
    "iqr15 = iqr * 1.5\n",
    "\n",
    "cond = (df['views'] < (q1 - iqr15)) | (df['views'] > (q3 + iqr15))\n",
    "df = df[cond]\n",
    "\n",
    "df['views'].sum()\n"
   ]
  },
  {
   "cell_type": "markdown",
   "id": "005a205b",
   "metadata": {},
   "source": [
    "Section 17"
   ]
  },
  {
   "cell_type": "code",
   "execution_count": 134,
   "id": "ff6c5ba0",
   "metadata": {},
   "outputs": [
    {
     "data": {
      "text/plain": [
       "8297.31"
      ]
     },
     "execution_count": 134,
     "metadata": {},
     "output_type": "execute_result"
    }
   ],
   "source": [
    "import pandas as pd\n",
    "df = pd.read_csv(\"type1_data1.csv\")\n",
    "\n",
    "# standard deviation of 'views'\n",
    "a = df['views'].std()\n",
    "\n",
    "cond1 = df['age'] <= 0  # smaller than or equal to 0\n",
    "cond2 = df['age'] != round(df['age'], 0) # not integer values\n",
    "\n",
    "df = df[~cond1 & ~cond2]\n",
    "b = df['views'].std()\n",
    "\n",
    "round(a+b, 2)"
   ]
  },
  {
   "cell_type": "markdown",
   "id": "4da8b668",
   "metadata": {},
   "source": [
    "Section 18"
   ]
  },
  {
   "cell_type": "code",
   "execution_count": 156,
   "id": "6798a40a",
   "metadata": {},
   "outputs": [
    {
     "data": {
      "text/html": [
       "<div>\n",
       "<style scoped>\n",
       "    .dataframe tbody tr th:only-of-type {\n",
       "        vertical-align: middle;\n",
       "    }\n",
       "\n",
       "    .dataframe tbody tr th {\n",
       "        vertical-align: top;\n",
       "    }\n",
       "\n",
       "    .dataframe thead th {\n",
       "        text-align: right;\n",
       "    }\n",
       "</style>\n",
       "<table border=\"1\" class=\"dataframe\">\n",
       "  <thead>\n",
       "    <tr style=\"text-align: right;\">\n",
       "      <th></th>\n",
       "      <th>0</th>\n",
       "      <th>1</th>\n",
       "      <th>2</th>\n",
       "      <th>3</th>\n",
       "      <th>4</th>\n",
       "      <th>5</th>\n",
       "      <th>6</th>\n",
       "      <th>7</th>\n",
       "      <th>8</th>\n",
       "      <th>9</th>\n",
       "      <th>...</th>\n",
       "      <th>190</th>\n",
       "      <th>191</th>\n",
       "      <th>192</th>\n",
       "      <th>193</th>\n",
       "      <th>194</th>\n",
       "      <th>195</th>\n",
       "      <th>196</th>\n",
       "      <th>197</th>\n",
       "      <th>198</th>\n",
       "      <th>199</th>\n",
       "    </tr>\n",
       "    <tr>\n",
       "      <th>year</th>\n",
       "      <th></th>\n",
       "      <th></th>\n",
       "      <th></th>\n",
       "      <th></th>\n",
       "      <th></th>\n",
       "      <th></th>\n",
       "      <th></th>\n",
       "      <th></th>\n",
       "      <th></th>\n",
       "      <th></th>\n",
       "      <th></th>\n",
       "      <th></th>\n",
       "      <th></th>\n",
       "      <th></th>\n",
       "      <th></th>\n",
       "      <th></th>\n",
       "      <th></th>\n",
       "      <th></th>\n",
       "      <th></th>\n",
       "      <th></th>\n",
       "      <th></th>\n",
       "    </tr>\n",
       "  </thead>\n",
       "  <tbody>\n",
       "    <tr>\n",
       "      <th>2000</th>\n",
       "      <td>137</td>\n",
       "      <td>74</td>\n",
       "      <td>114</td>\n",
       "      <td>140</td>\n",
       "      <td>80</td>\n",
       "      <td>150</td>\n",
       "      <td>16</td>\n",
       "      <td>133</td>\n",
       "      <td>178</td>\n",
       "      <td>181</td>\n",
       "      <td>...</td>\n",
       "      <td>124</td>\n",
       "      <td>94</td>\n",
       "      <td>118</td>\n",
       "      <td>12</td>\n",
       "      <td>50</td>\n",
       "      <td>191</td>\n",
       "      <td>137</td>\n",
       "      <td>174</td>\n",
       "      <td>56</td>\n",
       "      <td>128</td>\n",
       "    </tr>\n",
       "    <tr>\n",
       "      <th>2001</th>\n",
       "      <td>176</td>\n",
       "      <td>87</td>\n",
       "      <td>64</td>\n",
       "      <td>110</td>\n",
       "      <td>128</td>\n",
       "      <td>16</td>\n",
       "      <td>8</td>\n",
       "      <td>4</td>\n",
       "      <td>123</td>\n",
       "      <td>87</td>\n",
       "      <td>...</td>\n",
       "      <td>59</td>\n",
       "      <td>22</td>\n",
       "      <td>3</td>\n",
       "      <td>108</td>\n",
       "      <td>17</td>\n",
       "      <td>104</td>\n",
       "      <td>101</td>\n",
       "      <td>161</td>\n",
       "      <td>156</td>\n",
       "      <td>43</td>\n",
       "    </tr>\n",
       "    <tr>\n",
       "      <th>2002</th>\n",
       "      <td>128</td>\n",
       "      <td>132</td>\n",
       "      <td>123</td>\n",
       "      <td>112</td>\n",
       "      <td>134</td>\n",
       "      <td>160</td>\n",
       "      <td>180</td>\n",
       "      <td>47</td>\n",
       "      <td>115</td>\n",
       "      <td>155</td>\n",
       "      <td>...</td>\n",
       "      <td>160</td>\n",
       "      <td>111</td>\n",
       "      <td>116</td>\n",
       "      <td>75</td>\n",
       "      <td>48</td>\n",
       "      <td>51</td>\n",
       "      <td>81</td>\n",
       "      <td>101</td>\n",
       "      <td>194</td>\n",
       "      <td>73</td>\n",
       "    </tr>\n",
       "    <tr>\n",
       "      <th>2003</th>\n",
       "      <td>78</td>\n",
       "      <td>45</td>\n",
       "      <td>26</td>\n",
       "      <td>50</td>\n",
       "      <td>177</td>\n",
       "      <td>119</td>\n",
       "      <td>47</td>\n",
       "      <td>72</td>\n",
       "      <td>163</td>\n",
       "      <td>125</td>\n",
       "      <td>...</td>\n",
       "      <td>163</td>\n",
       "      <td>88</td>\n",
       "      <td>52</td>\n",
       "      <td>79</td>\n",
       "      <td>192</td>\n",
       "      <td>83</td>\n",
       "      <td>5</td>\n",
       "      <td>75</td>\n",
       "      <td>196</td>\n",
       "      <td>119</td>\n",
       "    </tr>\n",
       "    <tr>\n",
       "      <th>2004</th>\n",
       "      <td>1</td>\n",
       "      <td>162</td>\n",
       "      <td>124</td>\n",
       "      <td>12</td>\n",
       "      <td>1</td>\n",
       "      <td>126</td>\n",
       "      <td>58</td>\n",
       "      <td>123</td>\n",
       "      <td>186</td>\n",
       "      <td>161</td>\n",
       "      <td>...</td>\n",
       "      <td>100</td>\n",
       "      <td>93</td>\n",
       "      <td>86</td>\n",
       "      <td>12</td>\n",
       "      <td>115</td>\n",
       "      <td>72</td>\n",
       "      <td>29</td>\n",
       "      <td>30</td>\n",
       "      <td>88</td>\n",
       "      <td>150</td>\n",
       "    </tr>\n",
       "  </tbody>\n",
       "</table>\n",
       "<p>5 rows × 200 columns</p>\n",
       "</div>"
      ],
      "text/plain": [
       "        0    1    2    3    4    5    6    7    8    9  ...  190  191  192  \\\n",
       "year                                                    ...                  \n",
       "2000  137   74  114  140   80  150   16  133  178  181  ...  124   94  118   \n",
       "2001  176   87   64  110  128   16    8    4  123   87  ...   59   22    3   \n",
       "2002  128  132  123  112  134  160  180   47  115  155  ...  160  111  116   \n",
       "2003   78   45   26   50  177  119   47   72  163  125  ...  163   88   52   \n",
       "2004    1  162  124   12    1  126   58  123  186  161  ...  100   93   86   \n",
       "\n",
       "      193  194  195  196  197  198  199  \n",
       "year                                     \n",
       "2000   12   50  191  137  174   56  128  \n",
       "2001  108   17  104  101  161  156   43  \n",
       "2002   75   48   51   81  101  194   73  \n",
       "2003   79  192   83    5   75  196  119  \n",
       "2004   12  115   72   29   30   88  150  \n",
       "\n",
       "[5 rows x 200 columns]"
      ]
     },
     "execution_count": 156,
     "metadata": {},
     "output_type": "execute_result"
    }
   ],
   "source": [
    "import pandas as pd\n",
    "df = pd.read_csv(\"type1_data2.csv\", index_col = 'year')\n",
    "df"
   ]
  },
  {
   "cell_type": "code",
   "execution_count": 158,
   "id": "db1a691f",
   "metadata": {},
   "outputs": [
    {
     "data": {
      "text/plain": [
       "202"
      ]
     },
     "execution_count": 158,
     "metadata": {},
     "output_type": "execute_result"
    }
   ],
   "source": [
    "num = df.loc[2001] > df.loc[2001].mean()\n",
    "num2 = df.loc[2003] < df.loc[2003].mean()\n",
    "\n",
    "sum(num) + sum(num2)"
   ]
  },
  {
   "cell_type": "markdown",
   "id": "bae325d2",
   "metadata": {},
   "source": [
    "Section 19"
   ]
  },
  {
   "cell_type": "code",
   "execution_count": 159,
   "id": "7d91bb1a",
   "metadata": {},
   "outputs": [],
   "source": [
    "import pandas as pd\n",
    "df = pd.read_csv(\"type1_data1.csv\")"
   ]
  },
  {
   "cell_type": "code",
   "execution_count": 164,
   "id": "f43c4f0e",
   "metadata": {},
   "outputs": [
    {
     "name": "stderr",
     "output_type": "stream",
     "text": [
      "C:\\Users\\문지민\\AppData\\Local\\Temp\\ipykernel_22080\\1191377163.py:1: FutureWarning: DataFrame.fillna with 'method' is deprecated and will raise in a future version. Use obj.ffill() or obj.bfill() instead.\n",
      "  df = df.fillna(method=\"bfill\")\n"
     ]
    },
    {
     "data": {
      "text/html": [
       "<div>\n",
       "<style scoped>\n",
       "    .dataframe tbody tr th:only-of-type {\n",
       "        vertical-align: middle;\n",
       "    }\n",
       "\n",
       "    .dataframe tbody tr th {\n",
       "        vertical-align: top;\n",
       "    }\n",
       "\n",
       "    .dataframe thead th {\n",
       "        text-align: right;\n",
       "    }\n",
       "</style>\n",
       "<table border=\"1\" class=\"dataframe\">\n",
       "  <thead>\n",
       "    <tr style=\"text-align: right;\">\n",
       "      <th></th>\n",
       "      <th>city</th>\n",
       "      <th>f2</th>\n",
       "      <th>age</th>\n",
       "      <th>f1</th>\n",
       "      <th>f5</th>\n",
       "      <th>views</th>\n",
       "    </tr>\n",
       "  </thead>\n",
       "  <tbody>\n",
       "    <tr>\n",
       "      <th>0</th>\n",
       "      <td>경기</td>\n",
       "      <td>0</td>\n",
       "      <td>1192.9</td>\n",
       "      <td>1490.0</td>\n",
       "      <td>1425.236647</td>\n",
       "      <td>154066.0</td>\n",
       "    </tr>\n",
       "    <tr>\n",
       "      <th>3</th>\n",
       "      <td>대구</td>\n",
       "      <td>0</td>\n",
       "      <td>664.0</td>\n",
       "      <td>982.0</td>\n",
       "      <td>371.184620</td>\n",
       "      <td>100421.0</td>\n",
       "    </tr>\n",
       "    <tr>\n",
       "      <th>1</th>\n",
       "      <td>경기</td>\n",
       "      <td>1</td>\n",
       "      <td>997.0</td>\n",
       "      <td>1016.0</td>\n",
       "      <td>935.958628</td>\n",
       "      <td>91442.0</td>\n",
       "    </tr>\n",
       "    <tr>\n",
       "      <th>6</th>\n",
       "      <td>부산</td>\n",
       "      <td>0</td>\n",
       "      <td>525.0</td>\n",
       "      <td>691.0</td>\n",
       "      <td>395.272907</td>\n",
       "      <td>80460.0</td>\n",
       "    </tr>\n",
       "  </tbody>\n",
       "</table>\n",
       "</div>"
      ],
      "text/plain": [
       "  city  f2     age      f1           f5     views\n",
       "0   경기   0  1192.9  1490.0  1425.236647  154066.0\n",
       "3   대구   0   664.0   982.0   371.184620  100421.0\n",
       "1   경기   1   997.0  1016.0   935.958628   91442.0\n",
       "6   부산   0   525.0   691.0   395.272907   80460.0"
      ]
     },
     "execution_count": 164,
     "metadata": {},
     "output_type": "execute_result"
    }
   ],
   "source": [
    "df = df.fillna(method=\"bfill\")\n",
    "df = df.groupby(['city', 'f2']).sum(numeric_only=True).reset_index()\n",
    "\n",
    "df = df.sort_values(by=\"views\", ascending=False)\n",
    "df.head(4)"
   ]
  },
  {
   "cell_type": "markdown",
   "id": "d1b7e9fc",
   "metadata": {},
   "source": [
    "Section 20"
   ]
  },
  {
   "cell_type": "code",
   "execution_count": 200,
   "id": "17347200",
   "metadata": {},
   "outputs": [
    {
     "data": {
      "text/html": [
       "<div>\n",
       "<style scoped>\n",
       "    .dataframe tbody tr th:only-of-type {\n",
       "        vertical-align: middle;\n",
       "    }\n",
       "\n",
       "    .dataframe tbody tr th {\n",
       "        vertical-align: top;\n",
       "    }\n",
       "\n",
       "    .dataframe thead th {\n",
       "        text-align: right;\n",
       "    }\n",
       "</style>\n",
       "<table border=\"1\" class=\"dataframe\">\n",
       "  <thead>\n",
       "    <tr style=\"text-align: right;\">\n",
       "      <th></th>\n",
       "      <th>id</th>\n",
       "      <th>age</th>\n",
       "      <th>city</th>\n",
       "      <th>f1</th>\n",
       "      <th>f2</th>\n",
       "      <th>f3</th>\n",
       "      <th>f4</th>\n",
       "      <th>f5</th>\n",
       "      <th>subscribed</th>\n",
       "      <th>views</th>\n",
       "    </tr>\n",
       "  </thead>\n",
       "  <tbody>\n",
       "    <tr>\n",
       "      <th>0</th>\n",
       "      <td>id01</td>\n",
       "      <td>2.0</td>\n",
       "      <td>서울</td>\n",
       "      <td>NaN</td>\n",
       "      <td>0</td>\n",
       "      <td>gold</td>\n",
       "      <td>ENFJ</td>\n",
       "      <td>91.297791</td>\n",
       "      <td>2024-07-16</td>\n",
       "      <td>6820.0</td>\n",
       "    </tr>\n",
       "    <tr>\n",
       "      <th>1</th>\n",
       "      <td>id02</td>\n",
       "      <td>9.0</td>\n",
       "      <td>서울</td>\n",
       "      <td>70.0</td>\n",
       "      <td>1</td>\n",
       "      <td>NaN</td>\n",
       "      <td>ENFJ</td>\n",
       "      <td>60.339826</td>\n",
       "      <td>2024-05-12</td>\n",
       "      <td>2534.0</td>\n",
       "    </tr>\n",
       "    <tr>\n",
       "      <th>2</th>\n",
       "      <td>id03</td>\n",
       "      <td>27.0</td>\n",
       "      <td>서울</td>\n",
       "      <td>61.0</td>\n",
       "      <td>1</td>\n",
       "      <td>gold</td>\n",
       "      <td>ISTJ</td>\n",
       "      <td>17.252986</td>\n",
       "      <td>2024-03-16</td>\n",
       "      <td>7312.0</td>\n",
       "    </tr>\n",
       "  </tbody>\n",
       "</table>\n",
       "</div>"
      ],
      "text/plain": [
       "     id   age city    f1  f2    f3    f4         f5  subscribed   views\n",
       "0  id01   2.0   서울   NaN   0  gold  ENFJ  91.297791  2024-07-16  6820.0\n",
       "1  id02   9.0   서울  70.0   1   NaN  ENFJ  60.339826  2024-05-12  2534.0\n",
       "2  id03  27.0   서울  61.0   1  gold  ISTJ  17.252986  2024-03-16  7312.0"
      ]
     },
     "execution_count": 200,
     "metadata": {},
     "output_type": "execute_result"
    }
   ],
   "source": [
    "import pandas as pd\n",
    "df = pd.read_csv(\"type1_data1.csv\")\n",
    "\n",
    "df.head(3)"
   ]
  },
  {
   "cell_type": "code",
   "execution_count": 202,
   "id": "b90438ed",
   "metadata": {},
   "outputs": [
    {
     "ename": "KeyError",
     "evalue": "'subscribed'",
     "output_type": "error",
     "traceback": [
      "\u001b[1;31m---------------------------------------------------------------------------\u001b[0m",
      "\u001b[1;31mKeyError\u001b[0m                                  Traceback (most recent call last)",
      "File \u001b[1;32mc:\\anaconda\\Lib\\site-packages\\pandas\\core\\indexes\\base.py:3805\u001b[0m, in \u001b[0;36mIndex.get_loc\u001b[1;34m(self, key)\u001b[0m\n\u001b[0;32m   3804\u001b[0m \u001b[38;5;28;01mtry\u001b[39;00m:\n\u001b[1;32m-> 3805\u001b[0m     \u001b[38;5;28;01mreturn\u001b[39;00m \u001b[38;5;28mself\u001b[39m\u001b[38;5;241m.\u001b[39m_engine\u001b[38;5;241m.\u001b[39mget_loc(casted_key)\n\u001b[0;32m   3806\u001b[0m \u001b[38;5;28;01mexcept\u001b[39;00m \u001b[38;5;167;01mKeyError\u001b[39;00m \u001b[38;5;28;01mas\u001b[39;00m err:\n",
      "File \u001b[1;32mindex.pyx:167\u001b[0m, in \u001b[0;36mpandas._libs.index.IndexEngine.get_loc\u001b[1;34m()\u001b[0m\n",
      "File \u001b[1;32mindex.pyx:196\u001b[0m, in \u001b[0;36mpandas._libs.index.IndexEngine.get_loc\u001b[1;34m()\u001b[0m\n",
      "File \u001b[1;32mpandas\\\\_libs\\\\hashtable_class_helper.pxi:7081\u001b[0m, in \u001b[0;36mpandas._libs.hashtable.PyObjectHashTable.get_item\u001b[1;34m()\u001b[0m\n",
      "File \u001b[1;32mpandas\\\\_libs\\\\hashtable_class_helper.pxi:7089\u001b[0m, in \u001b[0;36mpandas._libs.hashtable.PyObjectHashTable.get_item\u001b[1;34m()\u001b[0m\n",
      "\u001b[1;31mKeyError\u001b[0m: 'subscribed'",
      "\nThe above exception was the direct cause of the following exception:\n",
      "\u001b[1;31mKeyError\u001b[0m                                  Traceback (most recent call last)",
      "Cell \u001b[1;32mIn[202], line 1\u001b[0m\n\u001b[1;32m----> 1\u001b[0m df[\u001b[38;5;124m'\u001b[39m\u001b[38;5;124msubscribed\u001b[39m\u001b[38;5;124m'\u001b[39m] \u001b[38;5;241m=\u001b[39m pd\u001b[38;5;241m.\u001b[39mto_datetime(df[\u001b[38;5;124m'\u001b[39m\u001b[38;5;124msubscribed\u001b[39m\u001b[38;5;124m'\u001b[39m])\n\u001b[0;32m      2\u001b[0m df[\u001b[38;5;124m'\u001b[39m\u001b[38;5;124mmonth\u001b[39m\u001b[38;5;124m'\u001b[39m] \u001b[38;5;241m=\u001b[39m df[\u001b[38;5;124m'\u001b[39m\u001b[38;5;124msubscribed\u001b[39m\u001b[38;5;124m'\u001b[39m]\u001b[38;5;241m.\u001b[39mdt\u001b[38;5;241m.\u001b[39mmonth\n\u001b[0;32m      4\u001b[0m df \u001b[38;5;241m=\u001b[39m df\u001b[38;5;241m.\u001b[39mgroupby(\u001b[38;5;124m'\u001b[39m\u001b[38;5;124mmonth\u001b[39m\u001b[38;5;124m'\u001b[39m)\u001b[38;5;241m.\u001b[39msum(numeric_only\u001b[38;5;241m=\u001b[39m\u001b[38;5;28;01mTrue\u001b[39;00m)\n",
      "File \u001b[1;32mc:\\anaconda\\Lib\\site-packages\\pandas\\core\\frame.py:4102\u001b[0m, in \u001b[0;36mDataFrame.__getitem__\u001b[1;34m(self, key)\u001b[0m\n\u001b[0;32m   4100\u001b[0m \u001b[38;5;28;01mif\u001b[39;00m \u001b[38;5;28mself\u001b[39m\u001b[38;5;241m.\u001b[39mcolumns\u001b[38;5;241m.\u001b[39mnlevels \u001b[38;5;241m>\u001b[39m \u001b[38;5;241m1\u001b[39m:\n\u001b[0;32m   4101\u001b[0m     \u001b[38;5;28;01mreturn\u001b[39;00m \u001b[38;5;28mself\u001b[39m\u001b[38;5;241m.\u001b[39m_getitem_multilevel(key)\n\u001b[1;32m-> 4102\u001b[0m indexer \u001b[38;5;241m=\u001b[39m \u001b[38;5;28mself\u001b[39m\u001b[38;5;241m.\u001b[39mcolumns\u001b[38;5;241m.\u001b[39mget_loc(key)\n\u001b[0;32m   4103\u001b[0m \u001b[38;5;28;01mif\u001b[39;00m is_integer(indexer):\n\u001b[0;32m   4104\u001b[0m     indexer \u001b[38;5;241m=\u001b[39m [indexer]\n",
      "File \u001b[1;32mc:\\anaconda\\Lib\\site-packages\\pandas\\core\\indexes\\base.py:3812\u001b[0m, in \u001b[0;36mIndex.get_loc\u001b[1;34m(self, key)\u001b[0m\n\u001b[0;32m   3807\u001b[0m     \u001b[38;5;28;01mif\u001b[39;00m \u001b[38;5;28misinstance\u001b[39m(casted_key, \u001b[38;5;28mslice\u001b[39m) \u001b[38;5;129;01mor\u001b[39;00m (\n\u001b[0;32m   3808\u001b[0m         \u001b[38;5;28misinstance\u001b[39m(casted_key, abc\u001b[38;5;241m.\u001b[39mIterable)\n\u001b[0;32m   3809\u001b[0m         \u001b[38;5;129;01mand\u001b[39;00m \u001b[38;5;28many\u001b[39m(\u001b[38;5;28misinstance\u001b[39m(x, \u001b[38;5;28mslice\u001b[39m) \u001b[38;5;28;01mfor\u001b[39;00m x \u001b[38;5;129;01min\u001b[39;00m casted_key)\n\u001b[0;32m   3810\u001b[0m     ):\n\u001b[0;32m   3811\u001b[0m         \u001b[38;5;28;01mraise\u001b[39;00m InvalidIndexError(key)\n\u001b[1;32m-> 3812\u001b[0m     \u001b[38;5;28;01mraise\u001b[39;00m \u001b[38;5;167;01mKeyError\u001b[39;00m(key) \u001b[38;5;28;01mfrom\u001b[39;00m \u001b[38;5;21;01merr\u001b[39;00m\n\u001b[0;32m   3813\u001b[0m \u001b[38;5;28;01mexcept\u001b[39;00m \u001b[38;5;167;01mTypeError\u001b[39;00m:\n\u001b[0;32m   3814\u001b[0m     \u001b[38;5;66;03m# If we have a listlike key, _check_indexing_error will raise\u001b[39;00m\n\u001b[0;32m   3815\u001b[0m     \u001b[38;5;66;03m#  InvalidIndexError. Otherwise we fall through and re-raise\u001b[39;00m\n\u001b[0;32m   3816\u001b[0m     \u001b[38;5;66;03m#  the TypeError.\u001b[39;00m\n\u001b[0;32m   3817\u001b[0m     \u001b[38;5;28mself\u001b[39m\u001b[38;5;241m.\u001b[39m_check_indexing_error(key)\n",
      "\u001b[1;31mKeyError\u001b[0m: 'subscribed'"
     ]
    }
   ],
   "source": [
    "df['subscribed'] = pd.to_datetime(df['subscribed'])\n",
    "df['month'] = df['subscribed'].dt.month\n",
    "\n",
    "df = df.groupby('month').sum(numeric_only=True)\n",
    "df = df.sort_values(by='views', ascending=True)\n",
    "df"
   ]
  },
  {
   "cell_type": "code",
   "execution_count": null,
   "id": "065682c1",
   "metadata": {},
   "outputs": [],
   "source": []
  }
 ],
 "metadata": {
  "kernelspec": {
   "display_name": "base",
   "language": "python",
   "name": "python3"
  },
  "language_info": {
   "codemirror_mode": {
    "name": "ipython",
    "version": 3
   },
   "file_extension": ".py",
   "mimetype": "text/x-python",
   "name": "python",
   "nbconvert_exporter": "python",
   "pygments_lexer": "ipython3",
   "version": "3.12.3"
  }
 },
 "nbformat": 4,
 "nbformat_minor": 5
}
